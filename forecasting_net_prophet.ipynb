{
 "cells": [
  {
   "cell_type": "markdown",
   "metadata": {},
   "source": [
    "# Forecasting Net Prophet\n",
    "\n",
    "You’re a growth analyst at [MercadoLibre](http://investor.mercadolibre.com/investor-relations). With over 200 million users, MercadoLibre is the most popular e-commerce site in Latin America. You've been tasked with analyzing the company's financial and user data in clever ways to make the company grow. So, you want to find out if the ability to predict search traffic can translate into the ability to successfully trade the stock.\n",
    "\n",
    "Instructions\n",
    "\n",
    "This section divides the instructions for this Challenge into four steps and an optional fifth step, as follows:\n",
    "\n",
    "* Step 1: Find unusual patterns in hourly Google search traffic\n",
    "\n",
    "* Step 2: Mine the search traffic data for seasonality\n",
    "\n",
    "* Step 3: Relate the search traffic to stock price patterns\n",
    "\n",
    "* Step 4: Create a time series model with Prophet\n",
    "\n",
    "* Step 5 (optional): Forecast revenue by using time series models\n",
    "\n",
    "The following subsections detail these steps.\n",
    "\n",
    "## Step 1: Find Unusual Patterns in Hourly Google Search Traffic\n",
    "\n",
    "The data science manager asks if the Google search traffic for the company links to any financial events at the company. Or, does the search traffic data just present random noise? To answer this question, pick out any unusual patterns in the Google search data for the company, and connect them to the corporate financial events.\n",
    "\n",
    "To do so, complete the following steps:\n",
    "\n",
    "1. Read the search data into a DataFrame, and then slice the data to just the month of May 2020. (During this month, MercadoLibre released its quarterly financial results.) Use hvPlot to visualize the results. Do any unusual patterns exist?\n",
    "\n",
    "2. Calculate the total search traffic for the month, and then compare the value to the monthly median across all months. Did the Google search traffic increase during the month that MercadoLibre released its financial results?\n",
    "\n",
    "## Step 2: Mine the Search Traffic Data for Seasonality\n",
    "\n",
    "Marketing realizes that they can use the hourly search data, too. If they can track and predict interest in the company and its platform for any time of day, they can focus their marketing efforts around the times that have the most traffic. This will get a greater return on investment (ROI) from their marketing budget.\n",
    "\n",
    "To that end, you want to mine the search traffic data for predictable seasonal patterns of interest in the company. To do so, complete the following steps:\n",
    "\n",
    "1. Group the hourly search data to plot the average traffic by the day of the week (for example, Monday vs. Friday).\n",
    "\n",
    "2. Using hvPlot, visualize this traffic as a heatmap, referencing the `index.hour` as the x-axis and the `index.dayofweek` as the y-axis. Does any day-of-week effect that you observe concentrate in just a few hours of that day?\n",
    "\n",
    "3. Group the search data by the week of the year. Does the search traffic tend to increase during the winter holiday period (weeks 40 through 52)?\n",
    "\n",
    "## Step 3: Relate the Search Traffic to Stock Price Patterns\n",
    "\n",
    "You mention your work on the search traffic data during a meeting with people in the finance group at the company. They want to know if any relationship between the search data and the company stock price exists, and they ask if you can investigate.\n",
    "\n",
    "To do so, complete the following steps:\n",
    "\n",
    "1. Read in and plot the stock price data. Concatenate the stock price data to the search data in a single DataFrame.\n",
    "\n",
    "2. Market events emerged during the year of 2020 that many companies found difficult. But, after the initial shock to global financial markets, new customers and revenue increased for e-commerce platforms. Slice the data to just the first half of 2020 (`2020-01` to `2020-06` in the DataFrame), and then use hvPlot to plot the data. Do both time series indicate a common trend that’s consistent with this narrative?\n",
    "\n",
    "3. Create a new column in the DataFrame named “Lagged Search Trends” that offsets, or shifts, the search traffic by one hour. Create two additional columns:\n",
    "\n",
    "    * “Stock Volatility”, which holds an exponentially weighted four-hour rolling average of the company’s stock volatility\n",
    "\n",
    "    * “Hourly Stock Return”, which holds the percent change of the company's stock price on an hourly basis\n",
    "\n",
    "4. Review the time series correlation, and then answer the following question: Does a predictable relationship exist between the lagged search traffic and the stock volatility or between the lagged search traffic and the stock price returns?\n",
    "\n",
    "## Step 4: Create a Time Series Model with Prophet\n",
    "\n",
    "Now, you need to produce a time series model that analyzes and forecasts patterns in the hourly search data. To do so, complete the following steps:\n",
    "\n",
    "1. Set up the Google search data for a Prophet forecasting model.\n",
    "\n",
    "2. After estimating the model, plot the forecast. How's the near-term forecast for the popularity of MercadoLibre?\n",
    "\n",
    "3. Plot the individual time series components of the model to answer the following questions:\n",
    "\n",
    "    * What time of day exhibits the greatest popularity?\n",
    "\n",
    "    * Which day of the week gets the most search traffic?\n",
    "\n",
    "    * What's the lowest point for search traffic in the calendar year?\n",
    "\n",
    "## Step 5 (Optional): Forecast Revenue by Using Time Series Models\n",
    "\n",
    "A few weeks after your initial analysis, the finance group follows up to find out if you can help them solve a different problem. Your fame as a growth analyst in the company continues to grow!\n",
    "\n",
    "Specifically, the finance group wants a forecast of the total sales for the next quarter. This will dramatically increase their ability to plan budgets and to help guide expectations for the company investors.\n",
    "\n",
    "To do so, complete the following steps:\n",
    "\n",
    "1. Read in the daily historical sales (that is, revenue) figures, and then apply a Prophet model to the data.\n",
    "\n",
    "2. Interpret the model output to identify any seasonal patterns in the company's revenue. For example, what are the peak revenue days? (Mondays? Fridays? Something else?)\n",
    "\n",
    "3. Produce a sales forecast for the finance group. Give them a number for the expected total sales in the next quarter. Include the best- and worst-case scenarios to help them make better plans.\n"
   ]
  },
  {
   "cell_type": "markdown",
   "metadata": {},
   "source": [
    "## Install and import the required libraries and dependencies"
   ]
  },
  {
   "cell_type": "code",
   "execution_count": 1,
   "metadata": {},
   "outputs": [
    {
     "name": "stdout",
     "output_type": "stream",
     "text": [
      "Libraries successfully installed\n"
     ]
    }
   ],
   "source": [
    "# Install the required libraries\n",
    "from IPython.display import clear_output\n",
    "try:\n",
    "  !pip install pystan\n",
    "  !pip install fbprophet\n",
    "  !pip install hvplot\n",
    "  !pip install holoviews\n",
    "except:\n",
    "  print(\"Error installing libraries\")\n",
    "finally:\n",
    "  clear_output()\n",
    "  print('Libraries successfully installed')"
   ]
  },
  {
   "cell_type": "code",
   "execution_count": 3,
   "metadata": {},
   "outputs": [],
   "source": [
    "# Import the required libraries and dependencies\n",
    "import pandas as pd\n",
    "from pathlib import Path\n",
    "import holoviews as hv\n",
    "from fbprophet import Prophet\n",
    "import hvplot.pandas\n",
    "import datetime as dt\n",
    "%matplotlib inline"
   ]
  },
  {
   "cell_type": "markdown",
   "metadata": {},
   "source": [
    "## Step 1: Find Unusual Patterns in Hourly Google Search Traffic\n",
    "\n",
    "The data science manager asks if the Google search traffic for the company links to any financial events at the company. Or, does the search traffic data just present random noise? To answer this question, pick out any unusual patterns in the Google search data for the company, and connect them to the corporate financial events.\n",
    "\n",
    "To do so, complete the following steps:\n",
    "\n",
    "1. Read the search data into a DataFrame, and then slice the data to just the month of May 2020. (During this month, MercadoLibre released its quarterly financial results.) Use hvPlot to visualize the results. Do any unusual patterns exist?\n",
    "\n",
    "2. Calculate the total search traffic for the month, and then compare the value to the monthly median across all months. Did the Google search traffic increase during the month that MercadoLibre released its financial results?\n"
   ]
  },
  {
   "cell_type": "markdown",
   "metadata": {},
   "source": [
    "#### Step 1: Read the search data into a DataFrame, and then slice the data to just the month of May 2020. (During this month, MercadoLibre released its quarterly financial results.) Use hvPlot to visualize the results. Do any unusual patterns exist?"
   ]
  },
  {
   "cell_type": "code",
   "execution_count": 15,
   "metadata": {},
   "outputs": [
    {
     "data": {
      "text/html": [
       "<div>\n",
       "<style scoped>\n",
       "    .dataframe tbody tr th:only-of-type {\n",
       "        vertical-align: middle;\n",
       "    }\n",
       "\n",
       "    .dataframe tbody tr th {\n",
       "        vertical-align: top;\n",
       "    }\n",
       "\n",
       "    .dataframe thead th {\n",
       "        text-align: right;\n",
       "    }\n",
       "</style>\n",
       "<table border=\"1\" class=\"dataframe\">\n",
       "  <thead>\n",
       "    <tr style=\"text-align: right;\">\n",
       "      <th></th>\n",
       "      <th>Search Trends</th>\n",
       "    </tr>\n",
       "    <tr>\n",
       "      <th>Date</th>\n",
       "      <th></th>\n",
       "    </tr>\n",
       "  </thead>\n",
       "  <tbody>\n",
       "    <tr>\n",
       "      <th>2016-06-01 00:00:00</th>\n",
       "      <td>97</td>\n",
       "    </tr>\n",
       "    <tr>\n",
       "      <th>2016-06-01 01:00:00</th>\n",
       "      <td>92</td>\n",
       "    </tr>\n",
       "    <tr>\n",
       "      <th>2016-06-01 02:00:00</th>\n",
       "      <td>76</td>\n",
       "    </tr>\n",
       "    <tr>\n",
       "      <th>2016-06-01 03:00:00</th>\n",
       "      <td>60</td>\n",
       "    </tr>\n",
       "    <tr>\n",
       "      <th>2016-06-01 04:00:00</th>\n",
       "      <td>38</td>\n",
       "    </tr>\n",
       "  </tbody>\n",
       "</table>\n",
       "</div>"
      ],
      "text/plain": [
       "                     Search Trends\n",
       "Date                              \n",
       "2016-06-01 00:00:00             97\n",
       "2016-06-01 01:00:00             92\n",
       "2016-06-01 02:00:00             76\n",
       "2016-06-01 03:00:00             60\n",
       "2016-06-01 04:00:00             38"
      ]
     },
     "metadata": {},
     "output_type": "display_data"
    },
    {
     "data": {
      "text/html": [
       "<div>\n",
       "<style scoped>\n",
       "    .dataframe tbody tr th:only-of-type {\n",
       "        vertical-align: middle;\n",
       "    }\n",
       "\n",
       "    .dataframe tbody tr th {\n",
       "        vertical-align: top;\n",
       "    }\n",
       "\n",
       "    .dataframe thead th {\n",
       "        text-align: right;\n",
       "    }\n",
       "</style>\n",
       "<table border=\"1\" class=\"dataframe\">\n",
       "  <thead>\n",
       "    <tr style=\"text-align: right;\">\n",
       "      <th></th>\n",
       "      <th>Search Trends</th>\n",
       "    </tr>\n",
       "    <tr>\n",
       "      <th>Date</th>\n",
       "      <th></th>\n",
       "    </tr>\n",
       "  </thead>\n",
       "  <tbody>\n",
       "    <tr>\n",
       "      <th>2020-09-07 20:00:00</th>\n",
       "      <td>71</td>\n",
       "    </tr>\n",
       "    <tr>\n",
       "      <th>2020-09-07 21:00:00</th>\n",
       "      <td>83</td>\n",
       "    </tr>\n",
       "    <tr>\n",
       "      <th>2020-09-07 22:00:00</th>\n",
       "      <td>96</td>\n",
       "    </tr>\n",
       "    <tr>\n",
       "      <th>2020-09-07 23:00:00</th>\n",
       "      <td>97</td>\n",
       "    </tr>\n",
       "    <tr>\n",
       "      <th>2020-09-08 00:00:00</th>\n",
       "      <td>96</td>\n",
       "    </tr>\n",
       "  </tbody>\n",
       "</table>\n",
       "</div>"
      ],
      "text/plain": [
       "                     Search Trends\n",
       "Date                              \n",
       "2020-09-07 20:00:00             71\n",
       "2020-09-07 21:00:00             83\n",
       "2020-09-07 22:00:00             96\n",
       "2020-09-07 23:00:00             97\n",
       "2020-09-08 00:00:00             96"
      ]
     },
     "metadata": {},
     "output_type": "display_data"
    }
   ],
   "source": [
    "# Read the \"google_hourly_search_trends.csv\" \n",
    "# Set the \"Date\" column as the Datetime Index.\n",
    "\n",
    "csv_path = Path(\"Resources/google_hourly_search_trends.csv\")\n",
    "\n",
    "df_mercado_trends = pd.read_csv(csv_path, infer_datetime_format=True, parse_dates=True, index_col='Date')\n",
    "\n",
    "# Review the first and last five rows of the DataFrame\n",
    "display(df_mercado_trends.head())\n",
    "display(df_mercado_trends.tail())"
   ]
  },
  {
   "cell_type": "code",
   "execution_count": 17,
   "metadata": {},
   "outputs": [
    {
     "name": "stdout",
     "output_type": "stream",
     "text": [
      "<class 'pandas.core.frame.DataFrame'>\n",
      "DatetimeIndex: 37106 entries, 2016-06-01 00:00:00 to 2020-09-08 00:00:00\n",
      "Data columns (total 1 columns):\n",
      " #   Column         Non-Null Count  Dtype\n",
      "---  ------         --------------  -----\n",
      " 0   Search Trends  37106 non-null  int64\n",
      "dtypes: int64(1)\n",
      "memory usage: 579.8 KB\n"
     ]
    }
   ],
   "source": [
    "# Review the data types of the DataFrame using the info function\n",
    "df_mercado_trends.info()"
   ]
  },
  {
   "cell_type": "code",
   "execution_count": 20,
   "metadata": {},
   "outputs": [
    {
     "data": {},
     "metadata": {},
     "output_type": "display_data"
    },
    {
     "data": {
      "application/vnd.holoviews_exec.v0+json": "",
      "text/html": [
       "<div id='1190'>\n",
       "\n",
       "\n",
       "\n",
       "\n",
       "\n",
       "  <div class=\"bk-root\" id=\"63639a51-bcdc-489b-b9a0-222e9a44da89\" data-root-id=\"1190\"></div>\n",
       "</div>\n",
       "<script type=\"application/javascript\">(function(root) {\n",
       "  function embed_document(root) {\n",
       "    var docs_json = {\"40a17572-4b0e-4a9d-b448-989f197bd216\":{\"roots\":{\"references\":[{\"attributes\":{},\"id\":\"1242\",\"type\":\"UnionRenderers\"},{\"attributes\":{\"line_alpha\":0.1,\"line_color\":\"#1f77b3\",\"line_width\":2,\"x\":{\"field\":\"Date\"},\"y\":{\"field\":\"Search Trends\"}},\"id\":\"1229\",\"type\":\"Line\"},{\"attributes\":{},\"id\":\"1213\",\"type\":\"PanTool\"},{\"attributes\":{\"below\":[{\"id\":\"1204\"}],\"center\":[{\"id\":\"1207\"},{\"id\":\"1211\"}],\"left\":[{\"id\":\"1208\"}],\"margin\":[5,5,5,5],\"min_border_bottom\":10,\"min_border_left\":10,\"min_border_right\":10,\"min_border_top\":10,\"plot_height\":300,\"plot_width\":700,\"renderers\":[{\"id\":\"1231\"}],\"sizing_mode\":\"fixed\",\"title\":{\"id\":\"1196\"},\"toolbar\":{\"id\":\"1218\"},\"x_range\":{\"id\":\"1192\"},\"x_scale\":{\"id\":\"1200\"},\"y_range\":{\"id\":\"1193\"},\"y_scale\":{\"id\":\"1202\"}},\"id\":\"1195\",\"subtype\":\"Figure\",\"type\":\"Plot\"},{\"attributes\":{\"children\":[{\"id\":\"1191\"},{\"id\":\"1195\"},{\"id\":\"1277\"}],\"margin\":[0,0,0,0],\"name\":\"Row01708\",\"tags\":[\"embedded\"]},\"id\":\"1190\",\"type\":\"Row\"},{\"attributes\":{},\"id\":\"1235\",\"type\":\"BasicTickFormatter\"},{\"attributes\":{\"days\":[1,8,15,22]},\"id\":\"1250\",\"type\":\"DaysTicker\"},{\"attributes\":{},\"id\":\"1226\",\"type\":\"Selection\"},{\"attributes\":{\"base\":24,\"mantissas\":[1,2,4,6,8,12],\"max_interval\":43200000.0,\"min_interval\":3600000.0,\"num_minor_ticks\":0},\"id\":\"1247\",\"type\":\"AdaptiveTicker\"},{\"attributes\":{\"data_source\":{\"id\":\"1225\"},\"glyph\":{\"id\":\"1228\"},\"hover_glyph\":null,\"muted_glyph\":{\"id\":\"1230\"},\"nonselection_glyph\":{\"id\":\"1229\"},\"selection_glyph\":null,\"view\":{\"id\":\"1232\"}},\"id\":\"1231\",\"type\":\"GlyphRenderer\"},{\"attributes\":{\"axis_label\":\"Search Trends\",\"bounds\":\"auto\",\"formatter\":{\"id\":\"1235\"},\"major_label_orientation\":\"horizontal\",\"ticker\":{\"id\":\"1209\"}},\"id\":\"1208\",\"type\":\"LinearAxis\"},{\"attributes\":{},\"id\":\"1212\",\"type\":\"SaveTool\"},{\"attributes\":{\"axis\":{\"id\":\"1208\"},\"dimension\":1,\"grid_line_color\":null,\"ticker\":null},\"id\":\"1211\",\"type\":\"Grid\"},{\"attributes\":{\"source\":{\"id\":\"1225\"}},\"id\":\"1232\",\"type\":\"CDSView\"},{\"attributes\":{},\"id\":\"1214\",\"type\":\"WheelZoomTool\"},{\"attributes\":{},\"id\":\"1216\",\"type\":\"ResetTool\"},{\"attributes\":{\"days\":[1,4,7,10,13,16,19,22,25,28]},\"id\":\"1249\",\"type\":\"DaysTicker\"},{\"attributes\":{\"axis\":{\"id\":\"1204\"},\"grid_line_color\":null,\"ticker\":null},\"id\":\"1207\",\"type\":\"Grid\"},{\"attributes\":{\"active_drag\":\"auto\",\"active_inspect\":\"auto\",\"active_multi\":null,\"active_scroll\":\"auto\",\"active_tap\":\"auto\",\"tools\":[{\"id\":\"1194\"},{\"id\":\"1212\"},{\"id\":\"1213\"},{\"id\":\"1214\"},{\"id\":\"1215\"},{\"id\":\"1216\"}]},\"id\":\"1218\",\"type\":\"Toolbar\"},{\"attributes\":{\"text\":\"\",\"text_color\":{\"value\":\"black\"},\"text_font_size\":{\"value\":\"12pt\"}},\"id\":\"1196\",\"type\":\"Title\"},{\"attributes\":{\"end\":1590966000000.0,\"reset_end\":1590966000000.0,\"reset_start\":1588291200000.0,\"start\":1588291200000.0,\"tags\":[[[\"Date\",\"Date\",null]]]},\"id\":\"1192\",\"type\":\"Range1d\"},{\"attributes\":{},\"id\":\"1200\",\"type\":\"LinearScale\"},{\"attributes\":{\"bottom_units\":\"screen\",\"fill_alpha\":0.5,\"fill_color\":\"lightgrey\",\"left_units\":\"screen\",\"level\":\"overlay\",\"line_alpha\":1.0,\"line_color\":\"black\",\"line_dash\":[4,4],\"line_width\":2,\"right_units\":\"screen\",\"top_units\":\"screen\"},\"id\":\"1217\",\"type\":\"BoxAnnotation\"},{\"attributes\":{\"line_color\":\"#1f77b3\",\"line_width\":2,\"x\":{\"field\":\"Date\"},\"y\":{\"field\":\"Search Trends\"}},\"id\":\"1228\",\"type\":\"Line\"},{\"attributes\":{},\"id\":\"1202\",\"type\":\"LinearScale\"},{\"attributes\":{\"overlay\":{\"id\":\"1217\"}},\"id\":\"1215\",\"type\":\"BoxZoomTool\"},{\"attributes\":{\"axis_label\":\"Date\",\"bounds\":\"auto\",\"formatter\":{\"id\":\"1233\"},\"major_label_orientation\":\"horizontal\",\"ticker\":{\"id\":\"1205\"}},\"id\":\"1204\",\"type\":\"DatetimeAxis\"},{\"attributes\":{},\"id\":\"1233\",\"type\":\"DatetimeTickFormatter\"},{\"attributes\":{\"base\":60,\"mantissas\":[1,2,5,10,15,20,30],\"max_interval\":1800000.0,\"min_interval\":1000.0,\"num_minor_ticks\":0},\"id\":\"1246\",\"type\":\"AdaptiveTicker\"},{\"attributes\":{\"mantissas\":[1,2,5],\"max_interval\":500.0,\"num_minor_ticks\":0},\"id\":\"1245\",\"type\":\"AdaptiveTicker\"},{\"attributes\":{\"days\":[1,15]},\"id\":\"1251\",\"type\":\"DaysTicker\"},{\"attributes\":{\"margin\":[5,5,5,5],\"name\":\"HSpacer01712\",\"sizing_mode\":\"stretch_width\"},\"id\":\"1191\",\"type\":\"Spacer\"},{\"attributes\":{\"line_alpha\":0.2,\"line_color\":\"#1f77b3\",\"line_width\":2,\"x\":{\"field\":\"Date\"},\"y\":{\"field\":\"Search Trends\"}},\"id\":\"1230\",\"type\":\"Line\"},{\"attributes\":{\"months\":[0,2,4,6,8,10]},\"id\":\"1253\",\"type\":\"MonthsTicker\"},{\"attributes\":{},\"id\":\"1209\",\"type\":\"BasicTicker\"},{\"attributes\":{\"months\":[0,1,2,3,4,5,6,7,8,9,10,11]},\"id\":\"1252\",\"type\":\"MonthsTicker\"},{\"attributes\":{\"num_minor_ticks\":5,\"tickers\":[{\"id\":\"1245\"},{\"id\":\"1246\"},{\"id\":\"1247\"},{\"id\":\"1248\"},{\"id\":\"1249\"},{\"id\":\"1250\"},{\"id\":\"1251\"},{\"id\":\"1252\"},{\"id\":\"1253\"},{\"id\":\"1254\"},{\"id\":\"1255\"},{\"id\":\"1256\"}]},\"id\":\"1205\",\"type\":\"DatetimeTicker\"},{\"attributes\":{\"months\":[0,4,8]},\"id\":\"1254\",\"type\":\"MonthsTicker\"},{\"attributes\":{\"end\":136.9,\"reset_end\":136.9,\"reset_start\":-5.9,\"start\":-5.9,\"tags\":[[[\"Search Trends\",\"Search Trends\",null]]]},\"id\":\"1193\",\"type\":\"Range1d\"},{\"attributes\":{\"callback\":null,\"formatters\":{\"@{Date}\":\"datetime\"},\"renderers\":[{\"id\":\"1231\"}],\"tags\":[\"hv_created\"],\"tooltips\":[[\"Date\",\"@{Date}{%F %T}\"],[\"Search Trends\",\"@{Search_Trends}\"]]},\"id\":\"1194\",\"type\":\"HoverTool\"},{\"attributes\":{\"days\":[1,2,3,4,5,6,7,8,9,10,11,12,13,14,15,16,17,18,19,20,21,22,23,24,25,26,27,28,29,30,31]},\"id\":\"1248\",\"type\":\"DaysTicker\"},{\"attributes\":{},\"id\":\"1256\",\"type\":\"YearsTicker\"},{\"attributes\":{\"data\":{\"Date\":{\"__ndarray__\":\"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\",\"dtype\":\"float64\",\"order\":\"little\",\"shape\":[744]},\"Search Trends\":[80,80,76,66,53,33,19,12,8,6,9,13,21,30,38,41,45,50,53,54,60,68,83,89,88,85,80,69,56,36,22,13,8,7,9,16,25,36,45,51,55,57,58,62,65,72,86,91,87,82,78,72,55,38,24,14,9,7,8,13,22,31,39,45,50,54,57,61,66,77,90,94,89,84,78,68,51,32,18,11,7,6,9,18,29,40,48,56,58,60,62,67,71,83,95,98,119,110,103,89,71,44,23,13,9,9,13,24,38,49,61,66,70,76,79,84,93,105,124,125,98,92,87,74,58,33,18,10,7,8,11,20,32,44,51,57,57,60,61,65,69,79,94,97,95,88,85,71,52,33,18,11,8,8,12,20,32,42,48,54,56,58,62,64,70,80,92,94,93,89,83,70,50,32,17,11,8,8,12,21,34,43,51,54,58,58,61,64,65,74,89,90,86,83,80,68,54,33,19,12,8,8,10,18,29,38,47,51,54,56,58,58,62,69,84,89,83,80,74,67,51,36,21,12,8,7,7,12,21,28,35,41,43,46,50,53,58,71,85,90,85,83,77,64,49,30,18,11,7,7,9,18,29,39,47,54,58,61,63,65,72,82,97,98,95,91,86,70,52,30,16,10,7,6,11,20,31,39,50,54,56,60,62,66,72,83,94,100,95,92,86,70,51,31,17,10,7,7,10,20,33,43,50,55,58,61,64,68,72,82,93,99,95,89,85,70,51,30,17,10,7,7,10,20,32,42,50,55,59,61,63,64,71,81,94,97,94,90,84,71,50,31,17,10,7,7,11,21,34,43,50,54,58,60,60,65,68,75,89,94,92,88,84,70,53,35,21,12,9,8,11,19,31,39,47,52,55,59,61,62,63,73,86,91,87,85,81,74,57,37,23,13,9,8,9,14,23,32,41,47,53,55,58,61,65,77,92,96,91,88,83,69,50,32,18,10,7,7,10,19,32,43,52,57,61,63,66,70,74,83,95,100,96,93,88,70,49,30,16,10,7,7,12,21,32,44,51,57,60,64,65,68,72,82,95,97,96,88,81,69,50,32,17,10,8,7,11,21,34,44,49,54,59,60,62,67,67,78,89,93,90,87,82,70,50,30,16,10,7,8,11,20,33,42,51,55,58,61,64,69,68,80,93,94,90,89,83,71,53,34,19,11,7,7,11,21,32,43,49,55,57,60,62,66,70,77,90,93,91,88,84,70,53,36,21,13,8,7,10,17,28,38,45,50,53,58,58,61,63,73,86,86,86,82,80,71,54,36,22,13,8,7,8,13,23,31,41,47,52,54,57,61,66,76,91,99,97,91,82,74,52,33,19,11,7,6,8,14,24,34,43,51,55,57,61,63,68,78,94,98,95,89,85,68,52,30,17,9,6,6,10,19,30,39,48,52,58,60,62,63,70,82,98,100,96,93,85,69,49,29,17,9,7,7,10,18,30,39,48,54,56,61,62,63,66,80,92,99,95,91,85,70,48,29,16,10,7,7,10,18,28,39,47,54,56,60,61,65,68,76,93,97,95,92,83,67,49,30,16,10,7,7,11,19,30,40,47,52,54,57,60,63,66,73,87,94,91,86,82,69,50,33,20,12,8,8,10,17,27,38,46,51,55,57,59,56,64,72,88,94,90,84,80,69,53,35,22,13,8,7,8,13,21,32,40,47,52,51,57,59,64,76,90,96],\"Search_Trends\":[80,80,76,66,53,33,19,12,8,6,9,13,21,30,38,41,45,50,53,54,60,68,83,89,88,85,80,69,56,36,22,13,8,7,9,16,25,36,45,51,55,57,58,62,65,72,86,91,87,82,78,72,55,38,24,14,9,7,8,13,22,31,39,45,50,54,57,61,66,77,90,94,89,84,78,68,51,32,18,11,7,6,9,18,29,40,48,56,58,60,62,67,71,83,95,98,119,110,103,89,71,44,23,13,9,9,13,24,38,49,61,66,70,76,79,84,93,105,124,125,98,92,87,74,58,33,18,10,7,8,11,20,32,44,51,57,57,60,61,65,69,79,94,97,95,88,85,71,52,33,18,11,8,8,12,20,32,42,48,54,56,58,62,64,70,80,92,94,93,89,83,70,50,32,17,11,8,8,12,21,34,43,51,54,58,58,61,64,65,74,89,90,86,83,80,68,54,33,19,12,8,8,10,18,29,38,47,51,54,56,58,58,62,69,84,89,83,80,74,67,51,36,21,12,8,7,7,12,21,28,35,41,43,46,50,53,58,71,85,90,85,83,77,64,49,30,18,11,7,7,9,18,29,39,47,54,58,61,63,65,72,82,97,98,95,91,86,70,52,30,16,10,7,6,11,20,31,39,50,54,56,60,62,66,72,83,94,100,95,92,86,70,51,31,17,10,7,7,10,20,33,43,50,55,58,61,64,68,72,82,93,99,95,89,85,70,51,30,17,10,7,7,10,20,32,42,50,55,59,61,63,64,71,81,94,97,94,90,84,71,50,31,17,10,7,7,11,21,34,43,50,54,58,60,60,65,68,75,89,94,92,88,84,70,53,35,21,12,9,8,11,19,31,39,47,52,55,59,61,62,63,73,86,91,87,85,81,74,57,37,23,13,9,8,9,14,23,32,41,47,53,55,58,61,65,77,92,96,91,88,83,69,50,32,18,10,7,7,10,19,32,43,52,57,61,63,66,70,74,83,95,100,96,93,88,70,49,30,16,10,7,7,12,21,32,44,51,57,60,64,65,68,72,82,95,97,96,88,81,69,50,32,17,10,8,7,11,21,34,44,49,54,59,60,62,67,67,78,89,93,90,87,82,70,50,30,16,10,7,8,11,20,33,42,51,55,58,61,64,69,68,80,93,94,90,89,83,71,53,34,19,11,7,7,11,21,32,43,49,55,57,60,62,66,70,77,90,93,91,88,84,70,53,36,21,13,8,7,10,17,28,38,45,50,53,58,58,61,63,73,86,86,86,82,80,71,54,36,22,13,8,7,8,13,23,31,41,47,52,54,57,61,66,76,91,99,97,91,82,74,52,33,19,11,7,6,8,14,24,34,43,51,55,57,61,63,68,78,94,98,95,89,85,68,52,30,17,9,6,6,10,19,30,39,48,52,58,60,62,63,70,82,98,100,96,93,85,69,49,29,17,9,7,7,10,18,30,39,48,54,56,61,62,63,66,80,92,99,95,91,85,70,48,29,16,10,7,7,10,18,28,39,47,54,56,60,61,65,68,76,93,97,95,92,83,67,49,30,16,10,7,7,11,19,30,40,47,52,54,57,60,63,66,73,87,94,91,86,82,69,50,33,20,12,8,8,10,17,27,38,46,51,55,57,59,56,64,72,88,94,90,84,80,69,53,35,22,13,8,7,8,13,21,32,40,47,52,51,57,59,64,76,90,96]},\"selected\":{\"id\":\"1226\"},\"selection_policy\":{\"id\":\"1242\"}},\"id\":\"1225\",\"type\":\"ColumnDataSource\"},{\"attributes\":{\"margin\":[5,5,5,5],\"name\":\"HSpacer01713\",\"sizing_mode\":\"stretch_width\"},\"id\":\"1277\",\"type\":\"Spacer\"},{\"attributes\":{\"months\":[0,6]},\"id\":\"1255\",\"type\":\"MonthsTicker\"}],\"root_ids\":[\"1190\"]},\"title\":\"Bokeh Application\",\"version\":\"2.2.3\"}};\n",
       "    var render_items = [{\"docid\":\"40a17572-4b0e-4a9d-b448-989f197bd216\",\"root_ids\":[\"1190\"],\"roots\":{\"1190\":\"63639a51-bcdc-489b-b9a0-222e9a44da89\"}}];\n",
       "    root.Bokeh.embed.embed_items_notebook(docs_json, render_items);\n",
       "  }\n",
       "  if (root.Bokeh !== undefined && root.Bokeh.Panel !== undefined) {\n",
       "    embed_document(root);\n",
       "  } else {\n",
       "    var attempts = 0;\n",
       "    var timer = setInterval(function(root) {\n",
       "      if (root.Bokeh !== undefined && root.Bokeh.Panel !== undefined) {\n",
       "        clearInterval(timer);\n",
       "        embed_document(root);\n",
       "      } else if (document.readyState == \"complete\") {\n",
       "        attempts++;\n",
       "        if (attempts > 100) {\n",
       "          clearInterval(timer);\n",
       "          console.log(\"Bokeh: ERROR: Unable to run BokehJS code because BokehJS library is missing\");\n",
       "        }\n",
       "      }\n",
       "    }, 10, root)\n",
       "  }\n",
       "})(window);</script>"
      ],
      "text/plain": [
       ":Curve   [Date]   (Search Trends)"
      ]
     },
     "execution_count": 20,
     "metadata": {
      "application/vnd.holoviews_exec.v0+json": {
       "id": "1190"
      }
     },
     "output_type": "execute_result"
    }
   ],
   "source": [
    "# Slice the DataFrame to just the month of May 2020\n",
    "df_may_2020 = df_mercado_trends.loc['2020-05-01':'2020-05-31']\n",
    "\n",
    "# Use hvPlot to visualize the data for May 2020\n",
    "df_may_2020.hvplot()"
   ]
  },
  {
   "cell_type": "markdown",
   "metadata": {},
   "source": [
    "#### Step 2: Calculate the total search traffic for the month, and then compare the value to the monthly median across all months. Did the Google search traffic increase during the month that MercadoLibre released its financial results?"
   ]
  },
  {
   "cell_type": "code",
   "execution_count": 21,
   "metadata": {},
   "outputs": [
    {
     "data": {
      "text/plain": [
       "Search Trends    38181\n",
       "dtype: int64"
      ]
     },
     "execution_count": 21,
     "metadata": {},
     "output_type": "execute_result"
    }
   ],
   "source": [
    "# Calculate the sum of the total search traffic for May 2020\n",
    "traffic_may_2020 = df_may_2020.sum()\n",
    "\n",
    "# View the traffic_may_2020 value\n",
    "traffic_may_2020"
   ]
  },
  {
   "cell_type": "code",
   "execution_count": 82,
   "metadata": {},
   "outputs": [
    {
     "data": {
      "text/plain": [
       "35172.5"
      ]
     },
     "execution_count": 82,
     "metadata": {},
     "output_type": "execute_result"
    }
   ],
   "source": [
    "# Calcluate the monthly median search traffic across all months \n",
    "# Group the DataFrame by index year and then index month, chain the sum and then the median functions\n",
    "groupby_levels = [df_mercado_trends.index.year, df_mercado_trends.index.month]\n",
    "\n",
    "median_monthly_traffic = df_mercado_trends\\\n",
    "    .groupby(by=groupby_levels)\\\n",
    "    .sum()['Search Trends']\\\n",
    "    .median()\n",
    "\n",
    "# View the median_monthly_traffic value\n",
    "median_monthly_traffic"
   ]
  },
  {
   "cell_type": "code",
   "execution_count": 83,
   "metadata": {},
   "outputs": [
    {
     "data": {
      "text/plain": [
       "Search Trends    1.085536\n",
       "dtype: float64"
      ]
     },
     "execution_count": 83,
     "metadata": {},
     "output_type": "execute_result"
    }
   ],
   "source": [
    "# Compare the search traffic for the month of May 2020 to the overall monthly median value\n",
    "traffic_may_2020 / median_monthly_traffic"
   ]
  },
  {
   "cell_type": "markdown",
   "metadata": {},
   "source": [
    "##### Answer the following question: "
   ]
  },
  {
   "cell_type": "markdown",
   "metadata": {},
   "source": [
    "**Question:** Did the Google search traffic increase during the month that MercadoLibre released its financial results?\n",
    "\n",
    "**Answer:** Yes,there was higher search traffic for May 2020 (38,181 compared to average of 35,172), which is the month that MercadoLibre released its financial results. "
   ]
  },
  {
   "cell_type": "markdown",
   "metadata": {},
   "source": [
    "## Step 2: Mine the Search Traffic Data for Seasonality\n",
    "\n",
    "Marketing realizes that they can use the hourly search data, too. If they can track and predict interest in the company and its platform for any time of day, they can focus their marketing efforts around the times that have the most traffic. This will get a greater return on investment (ROI) from their marketing budget.\n",
    "\n",
    "To that end, you want to mine the search traffic data for predictable seasonal patterns of interest in the company. To do so, complete the following steps:\n",
    "\n",
    "1. Group the hourly search data to plot the average traffic by the day of the week (for example, Monday vs. Friday).\n",
    "\n",
    "2. Using hvPlot, visualize this traffic as a heatmap, referencing the `index.hour` as the x-axis and the `index.dayofweek` as the y-axis. Does any day-of-week effect that you observe concentrate in just a few hours of that day?\n",
    "\n",
    "3. Group the search data by the week of the year. Does the search traffic tend to increase during the winter holiday period (weeks 40 through 52)?\n"
   ]
  },
  {
   "cell_type": "markdown",
   "metadata": {},
   "source": [
    "#### Step 1: Group the hourly search data to plot the average traffic by the day of the week (for example, Monday vs. Friday)."
   ]
  },
  {
   "cell_type": "code",
   "execution_count": 107,
   "metadata": {},
   "outputs": [
    {
     "data": {},
     "metadata": {},
     "output_type": "display_data"
    },
    {
     "data": {
      "application/vnd.holoviews_exec.v0+json": "",
      "text/html": [
       "<div id='1821'>\n",
       "\n",
       "\n",
       "\n",
       "\n",
       "\n",
       "  <div class=\"bk-root\" id=\"09103fc8-ee5a-4733-86a2-318c2969e892\" data-root-id=\"1821\"></div>\n",
       "</div>\n",
       "<script type=\"application/javascript\">(function(root) {\n",
       "  function embed_document(root) {\n",
       "    var docs_json = {\"2211d531-7f9f-4d79-aed4-0a660faee3e8\":{\"roots\":{\"references\":[{\"attributes\":{\"end\":51.313718571343294,\"reset_end\":51.313718571343294,\"reset_start\":42.409160096969615,\"start\":42.409160096969615,\"tags\":[[[\"Search Trends\",\"Search Trends\",null]]]},\"id\":\"1824\",\"type\":\"Range1d\"},{\"attributes\":{},\"id\":\"1833\",\"type\":\"LinearScale\"},{\"attributes\":{},\"id\":\"1847\",\"type\":\"ResetTool\"},{\"attributes\":{\"axis_label\":\"Date\",\"bounds\":\"auto\",\"formatter\":{\"id\":\"1864\"},\"major_label_orientation\":\"horizontal\",\"ticker\":{\"id\":\"1836\"}},\"id\":\"1835\",\"type\":\"LinearAxis\"},{\"attributes\":{\"text\":\"\",\"text_color\":{\"value\":\"black\"},\"text_font_size\":{\"value\":\"12pt\"}},\"id\":\"1827\",\"type\":\"Title\"},{\"attributes\":{},\"id\":\"1857\",\"type\":\"Selection\"},{\"attributes\":{\"end\":6.0,\"reset_end\":6.0,\"reset_start\":0.0,\"tags\":[[[\"Date\",\"Date\",null]]]},\"id\":\"1823\",\"type\":\"Range1d\"},{\"attributes\":{\"axis\":{\"id\":\"1839\"},\"dimension\":1,\"grid_line_color\":null,\"ticker\":null},\"id\":\"1842\",\"type\":\"Grid\"},{\"attributes\":{},\"id\":\"1836\",\"type\":\"BasicTicker\"},{\"attributes\":{\"axis\":{\"id\":\"1835\"},\"grid_line_color\":null,\"ticker\":null},\"id\":\"1838\",\"type\":\"Grid\"},{\"attributes\":{},\"id\":\"1840\",\"type\":\"BasicTicker\"},{\"attributes\":{\"margin\":[5,5,5,5],\"name\":\"HSpacer02716\",\"sizing_mode\":\"stretch_width\"},\"id\":\"1822\",\"type\":\"Spacer\"},{\"attributes\":{\"margin\":[5,5,5,5],\"name\":\"HSpacer02717\",\"sizing_mode\":\"stretch_width\"},\"id\":\"1884\",\"type\":\"Spacer\"},{\"attributes\":{\"axis_label\":\"Search Trends\",\"bounds\":\"auto\",\"formatter\":{\"id\":\"1866\"},\"major_label_orientation\":\"horizontal\",\"ticker\":{\"id\":\"1840\"}},\"id\":\"1839\",\"type\":\"LinearAxis\"},{\"attributes\":{\"data\":{\"Date\":[0,1,2,3,4,5,6],\"Search Trends\":{\"__ndarray__\":\"iesSievCSEDmVZSMLElJQETIGv0bHElAe47Jeo7ZSEBDfi9Dfk9IQFsMIFsMkEZAvVozvVqTRUA=\",\"dtype\":\"float64\",\"order\":\"little\",\"shape\":[7]},\"Search_Trends\":{\"__ndarray__\":\"iesSievCSEDmVZSMLElJQETIGv0bHElAe47Jeo7ZSEBDfi9Dfk9IQFsMIFsMkEZAvVozvVqTRUA=\",\"dtype\":\"float64\",\"order\":\"little\",\"shape\":[7]}},\"selected\":{\"id\":\"1857\"},\"selection_policy\":{\"id\":\"1873\"}},\"id\":\"1856\",\"type\":\"ColumnDataSource\"},{\"attributes\":{},\"id\":\"1873\",\"type\":\"UnionRenderers\"},{\"attributes\":{},\"id\":\"1866\",\"type\":\"BasicTickFormatter\"},{\"attributes\":{},\"id\":\"1864\",\"type\":\"BasicTickFormatter\"},{\"attributes\":{\"data_source\":{\"id\":\"1856\"},\"glyph\":{\"id\":\"1859\"},\"hover_glyph\":null,\"muted_glyph\":{\"id\":\"1861\"},\"nonselection_glyph\":{\"id\":\"1860\"},\"selection_glyph\":null,\"view\":{\"id\":\"1863\"}},\"id\":\"1862\",\"type\":\"GlyphRenderer\"},{\"attributes\":{\"active_drag\":\"auto\",\"active_inspect\":\"auto\",\"active_multi\":null,\"active_scroll\":\"auto\",\"active_tap\":\"auto\",\"tools\":[{\"id\":\"1825\"},{\"id\":\"1843\"},{\"id\":\"1844\"},{\"id\":\"1845\"},{\"id\":\"1846\"},{\"id\":\"1847\"}]},\"id\":\"1849\",\"type\":\"Toolbar\"},{\"attributes\":{},\"id\":\"1831\",\"type\":\"LinearScale\"},{\"attributes\":{\"below\":[{\"id\":\"1835\"}],\"center\":[{\"id\":\"1838\"},{\"id\":\"1842\"}],\"left\":[{\"id\":\"1839\"}],\"margin\":[5,5,5,5],\"min_border_bottom\":10,\"min_border_left\":10,\"min_border_right\":10,\"min_border_top\":10,\"plot_height\":300,\"plot_width\":700,\"renderers\":[{\"id\":\"1862\"}],\"sizing_mode\":\"fixed\",\"title\":{\"id\":\"1827\"},\"toolbar\":{\"id\":\"1849\"},\"x_range\":{\"id\":\"1823\"},\"x_scale\":{\"id\":\"1831\"},\"y_range\":{\"id\":\"1824\"},\"y_scale\":{\"id\":\"1833\"}},\"id\":\"1826\",\"subtype\":\"Figure\",\"type\":\"Plot\"},{\"attributes\":{\"callback\":null,\"renderers\":[{\"id\":\"1862\"}],\"tags\":[\"hv_created\"],\"tooltips\":[[\"Date\",\"@{Date}\"],[\"Search Trends\",\"@{Search_Trends}\"]]},\"id\":\"1825\",\"type\":\"HoverTool\"},{\"attributes\":{\"line_alpha\":0.2,\"line_color\":\"#1f77b3\",\"line_width\":2,\"x\":{\"field\":\"Date\"},\"y\":{\"field\":\"Search Trends\"}},\"id\":\"1861\",\"type\":\"Line\"},{\"attributes\":{},\"id\":\"1843\",\"type\":\"SaveTool\"},{\"attributes\":{\"line_color\":\"#1f77b3\",\"line_width\":2,\"x\":{\"field\":\"Date\"},\"y\":{\"field\":\"Search Trends\"}},\"id\":\"1859\",\"type\":\"Line\"},{\"attributes\":{\"source\":{\"id\":\"1856\"}},\"id\":\"1863\",\"type\":\"CDSView\"},{\"attributes\":{},\"id\":\"1844\",\"type\":\"PanTool\"},{\"attributes\":{},\"id\":\"1845\",\"type\":\"WheelZoomTool\"},{\"attributes\":{\"line_alpha\":0.1,\"line_color\":\"#1f77b3\",\"line_width\":2,\"x\":{\"field\":\"Date\"},\"y\":{\"field\":\"Search Trends\"}},\"id\":\"1860\",\"type\":\"Line\"},{\"attributes\":{\"bottom_units\":\"screen\",\"fill_alpha\":0.5,\"fill_color\":\"lightgrey\",\"left_units\":\"screen\",\"level\":\"overlay\",\"line_alpha\":1.0,\"line_color\":\"black\",\"line_dash\":[4,4],\"line_width\":2,\"right_units\":\"screen\",\"top_units\":\"screen\"},\"id\":\"1848\",\"type\":\"BoxAnnotation\"},{\"attributes\":{\"overlay\":{\"id\":\"1848\"}},\"id\":\"1846\",\"type\":\"BoxZoomTool\"},{\"attributes\":{\"children\":[{\"id\":\"1822\"},{\"id\":\"1826\"},{\"id\":\"1884\"}],\"margin\":[0,0,0,0],\"name\":\"Row02712\",\"tags\":[\"embedded\"]},\"id\":\"1821\",\"type\":\"Row\"}],\"root_ids\":[\"1821\"]},\"title\":\"Bokeh Application\",\"version\":\"2.2.3\"}};\n",
       "    var render_items = [{\"docid\":\"2211d531-7f9f-4d79-aed4-0a660faee3e8\",\"root_ids\":[\"1821\"],\"roots\":{\"1821\":\"09103fc8-ee5a-4733-86a2-318c2969e892\"}}];\n",
       "    root.Bokeh.embed.embed_items_notebook(docs_json, render_items);\n",
       "  }\n",
       "  if (root.Bokeh !== undefined && root.Bokeh.Panel !== undefined) {\n",
       "    embed_document(root);\n",
       "  } else {\n",
       "    var attempts = 0;\n",
       "    var timer = setInterval(function(root) {\n",
       "      if (root.Bokeh !== undefined && root.Bokeh.Panel !== undefined) {\n",
       "        clearInterval(timer);\n",
       "        embed_document(root);\n",
       "      } else if (document.readyState == \"complete\") {\n",
       "        attempts++;\n",
       "        if (attempts > 100) {\n",
       "          clearInterval(timer);\n",
       "          console.log(\"Bokeh: ERROR: Unable to run BokehJS code because BokehJS library is missing\");\n",
       "        }\n",
       "      }\n",
       "    }, 10, root)\n",
       "  }\n",
       "})(window);</script>"
      ],
      "text/plain": [
       ":Curve   [Date]   (Search Trends)"
      ]
     },
     "execution_count": 107,
     "metadata": {
      "application/vnd.holoviews_exec.v0+json": {
       "id": "1821"
      }
     },
     "output_type": "execute_result"
    }
   ],
   "source": [
    "# Group the hourly search data to plot (use hvPlot) the average traffic by the day of week \n",
    "group_level = df_mercado_trends.index.dayofweek\n",
    "df_mercado_trends.groupby(group_level).mean().hvplot()"
   ]
  },
  {
   "cell_type": "markdown",
   "metadata": {},
   "source": [
    "#### Step 2: Using hvPlot, visualize this traffic as a heatmap, referencing the `index.hour` as the x-axis and the `index.dayofweek` as the y-axis. Does any day-of-week effect that you observe concentrate in just a few hours of that day?"
   ]
  },
  {
   "cell_type": "code",
   "execution_count": 110,
   "metadata": {},
   "outputs": [
    {
     "name": "stderr",
     "output_type": "stream",
     "text": [
      "WARNING:param.HeatMapPlot03086: HeatMap element index is not unique,  ensure you aggregate the data before displaying it, e.g. using heatmap.aggregate(function=np.mean). Duplicate index values have been dropped.\n"
     ]
    },
    {
     "data": {},
     "metadata": {},
     "output_type": "display_data"
    },
    {
     "data": {
      "application/vnd.holoviews_exec.v0+json": "",
      "text/html": [
       "<div id='2042'>\n",
       "\n",
       "\n",
       "\n",
       "\n",
       "\n",
       "  <div class=\"bk-root\" id=\"a80a4f27-4147-40a3-a9c4-89962b42b62f\" data-root-id=\"2042\"></div>\n",
       "</div>\n",
       "<script type=\"application/javascript\">(function(root) {\n",
       "  function embed_document(root) {\n",
       "    var docs_json = {\"72b5250e-ac72-4a5d-a2cf-9e78b947dfc9\":{\"roots\":{\"references\":[{\"attributes\":{\"fill_alpha\":{\"value\":0.1},\"fill_color\":{\"field\":\"zvalues\",\"transform\":{\"id\":\"2077\"}},\"height\":{\"field\":\"height\",\"units\":\"data\"},\"line_alpha\":{\"value\":0},\"line_color\":{\"value\":\"#1f77b4\"},\"width\":{\"field\":\"width\",\"units\":\"data\"},\"x\":{\"field\":\"index_full_stop_hour\"},\"y\":{\"field\":\"index_full_stop_dayofweek\"}},\"id\":\"2082\",\"type\":\"Rect\"},{\"attributes\":{\"source\":{\"id\":\"2078\"}},\"id\":\"2085\",\"type\":\"CDSView\"},{\"attributes\":{},\"id\":\"2064\",\"type\":\"SaveTool\"},{\"attributes\":{},\"id\":\"2057\",\"type\":\"BasicTicker\"},{\"attributes\":{\"callback\":null,\"renderers\":[{\"id\":\"2084\"}],\"tags\":[\"hv_created\"],\"tooltips\":[[\"index.hour\",\"@{index_full_stop_hour}\"],[\"index.dayofweek\",\"@{index_full_stop_dayofweek}\"],[\"Search Trends\",\"@{Search_Trends}\"]]},\"id\":\"2046\",\"type\":\"HoverTool\"},{\"attributes\":{},\"id\":\"2065\",\"type\":\"PanTool\"},{\"attributes\":{\"axis_label\":\"index.hour\",\"bounds\":\"auto\",\"formatter\":{\"id\":\"2089\"},\"major_label_orientation\":\"horizontal\",\"ticker\":{\"id\":\"2057\"}},\"id\":\"2056\",\"type\":\"LinearAxis\"},{\"attributes\":{},\"id\":\"2066\",\"type\":\"WheelZoomTool\"},{\"attributes\":{},\"id\":\"2086\",\"type\":\"BasicTicker\"},{\"attributes\":{\"bottom_units\":\"screen\",\"fill_alpha\":0.5,\"fill_color\":\"lightgrey\",\"left_units\":\"screen\",\"level\":\"overlay\",\"line_alpha\":1.0,\"line_color\":\"black\",\"line_dash\":[4,4],\"line_width\":2,\"right_units\":\"screen\",\"top_units\":\"screen\"},\"id\":\"2069\",\"type\":\"BoxAnnotation\"},{\"attributes\":{},\"id\":\"2091\",\"type\":\"BasicTickFormatter\"},{\"attributes\":{\"overlay\":{\"id\":\"2069\"}},\"id\":\"2067\",\"type\":\"BoxZoomTool\"},{\"attributes\":{\"axis_label\":\"index.dayofweek\",\"bounds\":\"auto\",\"formatter\":{\"id\":\"2091\"},\"major_label_orientation\":\"horizontal\",\"ticker\":{\"id\":\"2061\"}},\"id\":\"2060\",\"type\":\"LinearAxis\"},{\"attributes\":{\"text\":\"\",\"text_color\":{\"value\":\"black\"},\"text_font_size\":{\"value\":\"12pt\"}},\"id\":\"2048\",\"type\":\"Title\"},{\"attributes\":{},\"id\":\"2079\",\"type\":\"Selection\"},{\"attributes\":{\"axis\":{\"id\":\"2060\"},\"dimension\":1,\"grid_line_color\":null,\"ticker\":null},\"id\":\"2063\",\"type\":\"Grid\"},{\"attributes\":{\"high\":125,\"low\":0,\"nan_color\":\"white\",\"palette\":[\"#fff5f0\",\"#fff4ef\",\"#fff4ee\",\"#fff3ed\",\"#fff2ec\",\"#fff2eb\",\"#fff1ea\",\"#fff0e9\",\"#fff0e8\",\"#ffefe8\",\"#ffeee7\",\"#ffeee6\",\"#ffede5\",\"#ffece4\",\"#ffece3\",\"#ffebe2\",\"#feeae1\",\"#feeae0\",\"#fee9df\",\"#fee8de\",\"#fee8dd\",\"#fee7dc\",\"#fee7db\",\"#fee6da\",\"#fee5d9\",\"#fee5d8\",\"#fee4d8\",\"#fee3d7\",\"#fee3d6\",\"#fee2d5\",\"#fee1d4\",\"#fee1d3\",\"#fee0d2\",\"#fedfd0\",\"#fedecf\",\"#fedccd\",\"#fedbcc\",\"#fedaca\",\"#fed9c9\",\"#fed8c7\",\"#fdd7c6\",\"#fdd5c4\",\"#fdd4c2\",\"#fdd3c1\",\"#fdd2bf\",\"#fdd1be\",\"#fdd0bc\",\"#fdcebb\",\"#fdcdb9\",\"#fdccb8\",\"#fdcbb6\",\"#fdcab5\",\"#fdc9b3\",\"#fdc7b2\",\"#fdc6b0\",\"#fdc5ae\",\"#fcc4ad\",\"#fcc3ab\",\"#fcc2aa\",\"#fcc1a8\",\"#fcbfa7\",\"#fcbea5\",\"#fcbda4\",\"#fcbca2\",\"#fcbba1\",\"#fcb99f\",\"#fcb89e\",\"#fcb79c\",\"#fcb69b\",\"#fcb499\",\"#fcb398\",\"#fcb296\",\"#fcb095\",\"#fcaf93\",\"#fcae92\",\"#fcad90\",\"#fcab8f\",\"#fcaa8d\",\"#fca98c\",\"#fca78b\",\"#fca689\",\"#fca588\",\"#fca486\",\"#fca285\",\"#fca183\",\"#fca082\",\"#fc9e80\",\"#fc9d7f\",\"#fc9c7d\",\"#fc9b7c\",\"#fc997a\",\"#fc9879\",\"#fc9777\",\"#fc9576\",\"#fc9474\",\"#fc9373\",\"#fc9272\",\"#fc9070\",\"#fc8f6f\",\"#fc8e6e\",\"#fc8d6d\",\"#fc8b6b\",\"#fc8a6a\",\"#fc8969\",\"#fc8767\",\"#fc8666\",\"#fc8565\",\"#fc8464\",\"#fc8262\",\"#fc8161\",\"#fc8060\",\"#fc7f5f\",\"#fb7d5d\",\"#fb7c5c\",\"#fb7b5b\",\"#fb7a5a\",\"#fb7858\",\"#fb7757\",\"#fb7656\",\"#fb7555\",\"#fb7353\",\"#fb7252\",\"#fb7151\",\"#fb7050\",\"#fb6e4e\",\"#fb6d4d\",\"#fb6c4c\",\"#fb6b4b\",\"#fb694a\",\"#fa6849\",\"#fa6648\",\"#fa6547\",\"#f96346\",\"#f96245\",\"#f96044\",\"#f85f43\",\"#f85d42\",\"#f75c41\",\"#f75b40\",\"#f7593f\",\"#f6583e\",\"#f6563d\",\"#f6553c\",\"#f5533b\",\"#f5523a\",\"#f4503a\",\"#f44f39\",\"#f44d38\",\"#f34c37\",\"#f34a36\",\"#f34935\",\"#f24734\",\"#f24633\",\"#f14432\",\"#f14331\",\"#f14130\",\"#f0402f\",\"#f03f2e\",\"#f03d2d\",\"#ef3c2c\",\"#ee3a2c\",\"#ed392b\",\"#ec382b\",\"#eb372a\",\"#ea362a\",\"#e93529\",\"#e83429\",\"#e63328\",\"#e53228\",\"#e43027\",\"#e32f27\",\"#e22e27\",\"#e12d26\",\"#e02c26\",\"#de2b25\",\"#dd2a25\",\"#dc2924\",\"#db2824\",\"#da2723\",\"#d92523\",\"#d82422\",\"#d72322\",\"#d52221\",\"#d42121\",\"#d32020\",\"#d21f20\",\"#d11e1f\",\"#d01d1f\",\"#cf1c1f\",\"#ce1a1e\",\"#cc191e\",\"#cb181d\",\"#ca181d\",\"#c9181d\",\"#c8171c\",\"#c7171c\",\"#c5171c\",\"#c4161c\",\"#c3161b\",\"#c2161b\",\"#c1161b\",\"#bf151b\",\"#be151a\",\"#bd151a\",\"#bc141a\",\"#bb141a\",\"#b91419\",\"#b81419\",\"#b71319\",\"#b61319\",\"#b51318\",\"#b31218\",\"#b21218\",\"#b11218\",\"#b01217\",\"#af1117\",\"#ad1117\",\"#ac1117\",\"#ab1016\",\"#aa1016\",\"#a91016\",\"#a81016\",\"#a60f15\",\"#a50f15\",\"#a30f15\",\"#a10e15\",\"#9f0e14\",\"#9d0d14\",\"#9c0d14\",\"#9a0c14\",\"#980c13\",\"#960b13\",\"#940b13\",\"#920a13\",\"#900a12\",\"#8e0912\",\"#8c0912\",\"#8a0812\",\"#880811\",\"#860811\",\"#840711\",\"#820711\",\"#800610\",\"#7e0610\",\"#7c0510\",\"#7a0510\",\"#79040f\",\"#77040f\",\"#75030f\",\"#73030f\",\"#71020e\",\"#6f020e\",\"#6d010e\",\"#6b010e\",\"#69000d\",\"#67000d\"]},\"id\":\"2077\",\"type\":\"LinearColorMapper\"},{\"attributes\":{},\"id\":\"2054\",\"type\":\"LinearScale\"},{\"attributes\":{},\"id\":\"2068\",\"type\":\"ResetTool\"},{\"attributes\":{},\"id\":\"2089\",\"type\":\"BasicTickFormatter\"},{\"attributes\":{\"end\":6.5,\"reset_end\":6.5,\"reset_start\":-0.5,\"start\":-0.5,\"tags\":[[[\"index.dayofweek\",\"index.dayofweek\",null]]]},\"id\":\"2045\",\"type\":\"Range1d\"},{\"attributes\":{\"margin\":[5,5,5,5],\"name\":\"HSpacer03056\",\"sizing_mode\":\"stretch_width\"},\"id\":\"2043\",\"type\":\"Spacer\"},{\"attributes\":{\"data_source\":{\"id\":\"2078\"},\"glyph\":{\"id\":\"2081\"},\"hover_glyph\":null,\"muted_glyph\":null,\"nonselection_glyph\":{\"id\":\"2082\"},\"selection_glyph\":{\"id\":\"2083\"},\"view\":{\"id\":\"2085\"}},\"id\":\"2084\",\"type\":\"GlyphRenderer\"},{\"attributes\":{\"below\":[{\"id\":\"2056\"}],\"center\":[{\"id\":\"2059\"},{\"id\":\"2063\"}],\"left\":[{\"id\":\"2060\"}],\"margin\":[5,5,5,5],\"min_border_bottom\":10,\"min_border_left\":10,\"min_border_right\":10,\"min_border_top\":10,\"plot_height\":300,\"plot_width\":700,\"renderers\":[{\"id\":\"2084\"}],\"right\":[{\"id\":\"2087\"}],\"sizing_mode\":\"fixed\",\"title\":{\"id\":\"2048\"},\"toolbar\":{\"id\":\"2070\"},\"x_range\":{\"id\":\"2044\"},\"x_scale\":{\"id\":\"2052\"},\"y_range\":{\"id\":\"2045\"},\"y_scale\":{\"id\":\"2054\"}},\"id\":\"2047\",\"subtype\":\"Figure\",\"type\":\"Plot\"},{\"attributes\":{\"axis\":{\"id\":\"2056\"},\"grid_line_color\":null,\"ticker\":null},\"id\":\"2059\",\"type\":\"Grid\"},{\"attributes\":{\"data\":{\"Search_Trends\":[\"90\",\"98\",\"97\",\"96\",\"98\",\"88\",\"85\",\"84\",\"93\",\"92\",\"89\",\"90\",\"79\",\"81\",\"76\",\"75\",\"76\",\"76\",\"79\",\"73\",\"74\",\"59\",\"58\",\"60\",\"60\",\"61\",\"61\",\"62\",\"38\",\"39\",\"38\",\"38\",\"40\",\"43\",\"45\",\"20\",\"20\",\"20\",\"20\",\"20\",\"24\",\"28\",\"10\",\"10\",\"10\",\"10\",\"10\",\"13\",\"15\",\"6\",\"5\",\"5\",\"5\",\"6\",\"7\",\"9\",\"4\",\"4\",\"5\",\"5\",\"5\",\"5\",\"6\",\"6\",\"6\",\"6\",\"7\",\"7\",\"6\",\"5\",\"11\",\"13\",\"12\",\"14\",\"14\",\"10\",\"7\",\"22\",\"25\",\"22\",\"24\",\"24\",\"19\",\"13\",\"34\",\"36\",\"33\",\"35\",\"35\",\"29\",\"23\",\"41\",\"44\",\"40\",\"42\",\"42\",\"39\",\"31\",\"48\",\"47\",\"45\",\"47\",\"48\",\"46\",\"38\",\"53\",\"53\",\"48\",\"51\",\"51\",\"50\",\"43\",\"55\",\"56\",\"51\",\"53\",\"52\",\"52\",\"45\",\"58\",\"58\",\"52\",\"54\",\"54\",\"54\",\"47\",\"59\",\"59\",\"54\",\"56\",\"56\",\"55\",\"49\",\"60\",\"61\",\"56\",\"58\",\"57\",\"55\",\"50\",\"63\",\"64\",\"60\",\"63\",\"60\",\"59\",\"53\",\"74\",\"73\",\"71\",\"73\",\"68\",\"65\",\"65\",\"91\",\"89\",\"88\",\"87\",\"80\",\"78\",\"83\",\"100\",\"100\",\"94\",\"98\",\"89\",\"85\",\"96\"],\"height\":{\"__ndarray__\":\"AAAAAAAA8D8AAAAAAADwPwAAAAAAAPA/AAAAAAAA8D8AAAAAAADwPwAAAAAAAPA/AAAAAAAA8D8AAAAAAADwPwAAAAAAAPA/AAAAAAAA8D8AAAAAAADwPwAAAAAAAPA/AAAAAAAA8D8AAAAAAADwPwAAAAAAAPA/AAAAAAAA8D8AAAAAAADwPwAAAAAAAPA/AAAAAAAA8D8AAAAAAADwPwAAAAAAAPA/AAAAAAAA8D8AAAAAAADwPwAAAAAAAPA/AAAAAAAA8D8AAAAAAADwPwAAAAAAAPA/AAAAAAAA8D8AAAAAAADwPwAAAAAAAPA/AAAAAAAA8D8AAAAAAADwPwAAAAAAAPA/AAAAAAAA8D8AAAAAAADwPwAAAAAAAPA/AAAAAAAA8D8AAAAAAADwPwAAAAAAAPA/AAAAAAAA8D8AAAAAAADwPwAAAAAAAPA/AAAAAAAA8D8AAAAAAADwPwAAAAAAAPA/AAAAAAAA8D8AAAAAAADwPwAAAAAAAPA/AAAAAAAA8D8AAAAAAADwPwAAAAAAAPA/AAAAAAAA8D8AAAAAAADwPwAAAAAAAPA/AAAAAAAA8D8AAAAAAADwPwAAAAAAAPA/AAAAAAAA8D8AAAAAAADwPwAAAAAAAPA/AAAAAAAA8D8AAAAAAADwPwAAAAAAAPA/AAAAAAAA8D8AAAAAAADwPwAAAAAAAPA/AAAAAAAA8D8AAAAAAADwPwAAAAAAAPA/AAAAAAAA8D8AAAAAAADwPwAAAAAAAPA/AAAAAAAA8D8AAAAAAADwPwAAAAAAAPA/AAAAAAAA8D8AAAAAAADwPwAAAAAAAPA/AAAAAAAA8D8AAAAAAADwPwAAAAAAAPA/AAAAAAAA8D8AAAAAAADwPwAAAAAAAPA/AAAAAAAA8D8AAAAAAADwPwAAAAAAAPA/AAAAAAAA8D8AAAAAAADwPwAAAAAAAPA/AAAAAAAA8D8AAAAAAADwPwAAAAAAAPA/AAAAAAAA8D8AAAAAAADwPwAAAAAAAPA/AAAAAAAA8D8AAAAAAADwPwAAAAAAAPA/AAAAAAAA8D8AAAAAAADwPwAAAAAAAPA/AAAAAAAA8D8AAAAAAADwPwAAAAAAAPA/AAAAAAAA8D8AAAAAAADwPwAAAAAAAPA/AAAAAAAA8D8AAAAAAADwPwAAAAAAAPA/AAAAAAAA8D8AAAAAAADwPwAAAAAAAPA/AAAAAAAA8D8AAAAAAADwPwAAAAAAAPA/AAAAAAAA8D8AAAAAAADwPwAAAAAAAPA/AAAAAAAA8D8AAAAAAADwPwAAAAAAAPA/AAAAAAAA8D8AAAAAAADwPwAAAAAAAPA/AAAAAAAA8D8AAAAAAADwPwAAAAAAAPA/AAAAAAAA8D8AAAAAAADwPwAAAAAAAPA/AAAAAAAA8D8AAAAAAADwPwAAAAAAAPA/AAAAAAAA8D8AAAAAAADwPwAAAAAAAPA/AAAAAAAA8D8AAAAAAADwPwAAAAAAAPA/AAAAAAAA8D8AAAAAAADwPwAAAAAAAPA/AAAAAAAA8D8AAAAAAADwPwAAAAAAAPA/AAAAAAAA8D8AAAAAAADwPwAAAAAAAPA/AAAAAAAA8D8AAAAAAADwPwAAAAAAAPA/AAAAAAAA8D8AAAAAAADwPwAAAAAAAPA/AAAAAAAA8D8AAAAAAADwPwAAAAAAAPA/AAAAAAAA8D8AAAAAAADwPwAAAAAAAPA/AAAAAAAA8D8AAAAAAADwPwAAAAAAAPA/AAAAAAAA8D8AAAAAAADwPwAAAAAAAPA/\",\"dtype\":\"float64\",\"order\":\"little\",\"shape\":[168]},\"index_full_stop_dayofweek\":[0,1,2,3,4,5,6,0,1,2,3,4,5,6,0,1,2,3,4,5,6,0,1,2,3,4,5,6,0,1,2,3,4,5,6,0,1,2,3,4,5,6,0,1,2,3,4,5,6,0,1,2,3,4,5,6,0,1,2,3,4,5,6,0,1,2,3,4,5,6,0,1,2,3,4,5,6,0,1,2,3,4,5,6,0,1,2,3,4,5,6,0,1,2,3,4,5,6,0,1,2,3,4,5,6,0,1,2,3,4,5,6,0,1,2,3,4,5,6,0,1,2,3,4,5,6,0,1,2,3,4,5,6,0,1,2,3,4,5,6,0,1,2,3,4,5,6,0,1,2,3,4,5,6,0,1,2,3,4,5,6,0,1,2,3,4,5,6],\"index_full_stop_hour\":[0,0,0,0,0,0,0,1,1,1,1,1,1,1,2,2,2,2,2,2,2,3,3,3,3,3,3,3,4,4,4,4,4,4,4,5,5,5,5,5,5,5,6,6,6,6,6,6,6,7,7,7,7,7,7,7,8,8,8,8,8,8,8,9,9,9,9,9,9,9,10,10,10,10,10,10,10,11,11,11,11,11,11,11,12,12,12,12,12,12,12,13,13,13,13,13,13,13,14,14,14,14,14,14,14,15,15,15,15,15,15,15,16,16,16,16,16,16,16,17,17,17,17,17,17,17,18,18,18,18,18,18,18,19,19,19,19,19,19,19,20,20,20,20,20,20,20,21,21,21,21,21,21,21,22,22,22,22,22,22,22,23,23,23,23,23,23,23],\"width\":{\"__ndarray__\":\"AAAAAAAA8D8AAAAAAADwPwAAAAAAAPA/AAAAAAAA8D8AAAAAAADwPwAAAAAAAPA/AAAAAAAA8D8AAAAAAADwPwAAAAAAAPA/AAAAAAAA8D8AAAAAAADwPwAAAAAAAPA/AAAAAAAA8D8AAAAAAADwPwAAAAAAAPA/AAAAAAAA8D8AAAAAAADwPwAAAAAAAPA/AAAAAAAA8D8AAAAAAADwPwAAAAAAAPA/AAAAAAAA8D8AAAAAAADwPwAAAAAAAPA/AAAAAAAA8D8AAAAAAADwPwAAAAAAAPA/AAAAAAAA8D8AAAAAAADwPwAAAAAAAPA/AAAAAAAA8D8AAAAAAADwPwAAAAAAAPA/AAAAAAAA8D8AAAAAAADwPwAAAAAAAPA/AAAAAAAA8D8AAAAAAADwPwAAAAAAAPA/AAAAAAAA8D8AAAAAAADwPwAAAAAAAPA/AAAAAAAA8D8AAAAAAADwPwAAAAAAAPA/AAAAAAAA8D8AAAAAAADwPwAAAAAAAPA/AAAAAAAA8D8AAAAAAADwPwAAAAAAAPA/AAAAAAAA8D8AAAAAAADwPwAAAAAAAPA/AAAAAAAA8D8AAAAAAADwPwAAAAAAAPA/AAAAAAAA8D8AAAAAAADwPwAAAAAAAPA/AAAAAAAA8D8AAAAAAADwPwAAAAAAAPA/AAAAAAAA8D8AAAAAAADwPwAAAAAAAPA/AAAAAAAA8D8AAAAAAADwPwAAAAAAAPA/AAAAAAAA8D8AAAAAAADwPwAAAAAAAPA/AAAAAAAA8D8AAAAAAADwPwAAAAAAAPA/AAAAAAAA8D8AAAAAAADwPwAAAAAAAPA/AAAAAAAA8D8AAAAAAADwPwAAAAAAAPA/AAAAAAAA8D8AAAAAAADwPwAAAAAAAPA/AAAAAAAA8D8AAAAAAADwPwAAAAAAAPA/AAAAAAAA8D8AAAAAAADwPwAAAAAAAPA/AAAAAAAA8D8AAAAAAADwPwAAAAAAAPA/AAAAAAAA8D8AAAAAAADwPwAAAAAAAPA/AAAAAAAA8D8AAAAAAADwPwAAAAAAAPA/AAAAAAAA8D8AAAAAAADwPwAAAAAAAPA/AAAAAAAA8D8AAAAAAADwPwAAAAAAAPA/AAAAAAAA8D8AAAAAAADwPwAAAAAAAPA/AAAAAAAA8D8AAAAAAADwPwAAAAAAAPA/AAAAAAAA8D8AAAAAAADwPwAAAAAAAPA/AAAAAAAA8D8AAAAAAADwPwAAAAAAAPA/AAAAAAAA8D8AAAAAAADwPwAAAAAAAPA/AAAAAAAA8D8AAAAAAADwPwAAAAAAAPA/AAAAAAAA8D8AAAAAAADwPwAAAAAAAPA/AAAAAAAA8D8AAAAAAADwPwAAAAAAAPA/AAAAAAAA8D8AAAAAAADwPwAAAAAAAPA/AAAAAAAA8D8AAAAAAADwPwAAAAAAAPA/AAAAAAAA8D8AAAAAAADwPwAAAAAAAPA/AAAAAAAA8D8AAAAAAADwPwAAAAAAAPA/AAAAAAAA8D8AAAAAAADwPwAAAAAAAPA/AAAAAAAA8D8AAAAAAADwPwAAAAAAAPA/AAAAAAAA8D8AAAAAAADwPwAAAAAAAPA/AAAAAAAA8D8AAAAAAADwPwAAAAAAAPA/AAAAAAAA8D8AAAAAAADwPwAAAAAAAPA/AAAAAAAA8D8AAAAAAADwPwAAAAAAAPA/AAAAAAAA8D8AAAAAAADwPwAAAAAAAPA/AAAAAAAA8D8AAAAAAADwPwAAAAAAAPA/AAAAAAAA8D8AAAAAAADwPwAAAAAAAPA/\",\"dtype\":\"float64\",\"order\":\"little\",\"shape\":[168]},\"zvalues\":[90,98,97,96,98,88,85,84,93,92,89,90,79,81,76,75,76,76,79,73,74,59,58,60,60,61,61,62,38,39,38,38,40,43,45,20,20,20,20,20,24,28,10,10,10,10,10,13,15,6,5,5,5,6,7,9,4,4,5,5,5,5,6,6,6,6,7,7,6,5,11,13,12,14,14,10,7,22,25,22,24,24,19,13,34,36,33,35,35,29,23,41,44,40,42,42,39,31,48,47,45,47,48,46,38,53,53,48,51,51,50,43,55,56,51,53,52,52,45,58,58,52,54,54,54,47,59,59,54,56,56,55,49,60,61,56,58,57,55,50,63,64,60,63,60,59,53,74,73,71,73,68,65,65,91,89,88,87,80,78,83,100,100,94,98,89,85,96]},\"selected\":{\"id\":\"2079\"},\"selection_policy\":{\"id\":\"2099\"}},\"id\":\"2078\",\"type\":\"ColumnDataSource\"},{\"attributes\":{},\"id\":\"2052\",\"type\":\"LinearScale\"},{\"attributes\":{\"fill_color\":{\"field\":\"zvalues\",\"transform\":{\"id\":\"2077\"}},\"height\":{\"field\":\"height\",\"units\":\"data\"},\"line_alpha\":{\"value\":0},\"line_color\":{\"value\":\"#1f77b4\"},\"width\":{\"field\":\"width\",\"units\":\"data\"},\"x\":{\"field\":\"index_full_stop_hour\"},\"y\":{\"field\":\"index_full_stop_dayofweek\"}},\"id\":\"2083\",\"type\":\"Rect\"},{\"attributes\":{\"margin\":[5,5,5,5],\"name\":\"HSpacer03057\",\"sizing_mode\":\"stretch_width\"},\"id\":\"2111\",\"type\":\"Spacer\"},{\"attributes\":{},\"id\":\"2061\",\"type\":\"BasicTicker\"},{\"attributes\":{\"children\":[{\"id\":\"2043\"},{\"id\":\"2047\"},{\"id\":\"2111\"}],\"margin\":[0,0,0,0],\"name\":\"Row03052\",\"tags\":[\"embedded\"]},\"id\":\"2042\",\"type\":\"Row\"},{\"attributes\":{\"bar_line_color\":\"black\",\"color_mapper\":{\"id\":\"2077\"},\"formatter\":{\"id\":\"2096\"},\"label_standoff\":8,\"location\":[0,0],\"major_tick_line_color\":\"black\",\"ticker\":{\"id\":\"2086\"}},\"id\":\"2087\",\"type\":\"ColorBar\"},{\"attributes\":{\"end\":23.5,\"reset_end\":23.5,\"reset_start\":-0.5,\"start\":-0.5,\"tags\":[[[\"index.hour\",\"index.hour\",null]]]},\"id\":\"2044\",\"type\":\"Range1d\"},{\"attributes\":{},\"id\":\"2096\",\"type\":\"BasicTickFormatter\"},{\"attributes\":{},\"id\":\"2099\",\"type\":\"UnionRenderers\"},{\"attributes\":{\"active_drag\":\"auto\",\"active_inspect\":\"auto\",\"active_multi\":null,\"active_scroll\":\"auto\",\"active_tap\":\"auto\",\"tools\":[{\"id\":\"2046\"},{\"id\":\"2064\"},{\"id\":\"2065\"},{\"id\":\"2066\"},{\"id\":\"2067\"},{\"id\":\"2068\"}]},\"id\":\"2070\",\"type\":\"Toolbar\"},{\"attributes\":{\"fill_color\":{\"field\":\"zvalues\",\"transform\":{\"id\":\"2077\"}},\"height\":{\"field\":\"height\",\"units\":\"data\"},\"line_alpha\":{\"value\":0},\"line_color\":{\"value\":\"#1f77b4\"},\"width\":{\"field\":\"width\",\"units\":\"data\"},\"x\":{\"field\":\"index_full_stop_hour\"},\"y\":{\"field\":\"index_full_stop_dayofweek\"}},\"id\":\"2081\",\"type\":\"Rect\"}],\"root_ids\":[\"2042\"]},\"title\":\"Bokeh Application\",\"version\":\"2.2.3\"}};\n",
       "    var render_items = [{\"docid\":\"72b5250e-ac72-4a5d-a2cf-9e78b947dfc9\",\"root_ids\":[\"2042\"],\"roots\":{\"2042\":\"a80a4f27-4147-40a3-a9c4-89962b42b62f\"}}];\n",
       "    root.Bokeh.embed.embed_items_notebook(docs_json, render_items);\n",
       "  }\n",
       "  if (root.Bokeh !== undefined && root.Bokeh.Panel !== undefined) {\n",
       "    embed_document(root);\n",
       "  } else {\n",
       "    var attempts = 0;\n",
       "    var timer = setInterval(function(root) {\n",
       "      if (root.Bokeh !== undefined && root.Bokeh.Panel !== undefined) {\n",
       "        clearInterval(timer);\n",
       "        embed_document(root);\n",
       "      } else if (document.readyState == \"complete\") {\n",
       "        attempts++;\n",
       "        if (attempts > 100) {\n",
       "          clearInterval(timer);\n",
       "          console.log(\"Bokeh: ERROR: Unable to run BokehJS code because BokehJS library is missing\");\n",
       "        }\n",
       "      }\n",
       "    }, 10, root)\n",
       "  }\n",
       "})(window);</script>"
      ],
      "text/plain": [
       ":HeatMap   [index.hour,index.dayofweek]   (Search Trends)"
      ]
     },
     "execution_count": 110,
     "metadata": {
      "application/vnd.holoviews_exec.v0+json": {
       "id": "2042"
      }
     },
     "output_type": "execute_result"
    }
   ],
   "source": [
    "# Use hvPlot to visualize the hour of the day and day of week search traffic as a heatmap.\n",
    "df_mercado_trends.hvplot.heatmap(x='index.hour', y='index.dayofweek', C='Search Trends', cmap='reds')"
   ]
  },
  {
   "cell_type": "markdown",
   "metadata": {},
   "source": [
    "##### Answer the following question:"
   ]
  },
  {
   "cell_type": "markdown",
   "metadata": {},
   "source": [
    "**Question:** Does any day-of-week effect that you observe concentrate in just a few hours of that day?\n",
    "\n",
    "**Answer:** Based on the heatmap, it seems that Monday through Thursday are more heavily concentrated during the first few hours of the day, and everyday has a high search trend the last couple hours of the day. "
   ]
  },
  {
   "cell_type": "markdown",
   "metadata": {},
   "source": [
    "#### Step 3: Group the search data by the week of the year. Does the search traffic tend to increase during the winter holiday period (weeks 40 through 52)?"
   ]
  },
  {
   "cell_type": "code",
   "execution_count": 111,
   "metadata": {},
   "outputs": [
    {
     "name": "stderr",
     "output_type": "stream",
     "text": [
      "/Users/edgarcoronado-macbook/opt/anaconda3/envs/dev/lib/python3.7/site-packages/ipykernel_launcher.py:2: FutureWarning: weekofyear and week have been deprecated, please use DatetimeIndex.isocalendar().week instead, which returns a Series.  To exactly reproduce the behavior of week and weekofyear and return an Index, you may call pd.Int64Index(idx.isocalendar().week)\n",
      "  \n"
     ]
    },
    {
     "data": {},
     "metadata": {},
     "output_type": "display_data"
    },
    {
     "data": {
      "application/vnd.holoviews_exec.v0+json": "",
      "text/html": [
       "<div id='2158'>\n",
       "\n",
       "\n",
       "\n",
       "\n",
       "\n",
       "  <div class=\"bk-root\" id=\"ee4c67cc-4e2c-4633-9949-25f6a5b3fffb\" data-root-id=\"2158\"></div>\n",
       "</div>\n",
       "<script type=\"application/javascript\">(function(root) {\n",
       "  function embed_document(root) {\n",
       "    var docs_json = {\"bc22f644-38d5-425d-92a1-c1a3197e6292\":{\"roots\":{\"references\":[{\"attributes\":{\"below\":[{\"id\":\"2172\"}],\"center\":[{\"id\":\"2175\"},{\"id\":\"2179\"}],\"left\":[{\"id\":\"2176\"}],\"margin\":[5,5,5,5],\"min_border_bottom\":10,\"min_border_left\":10,\"min_border_right\":10,\"min_border_top\":10,\"plot_height\":300,\"plot_width\":700,\"renderers\":[{\"id\":\"2199\"}],\"sizing_mode\":\"fixed\",\"title\":{\"id\":\"2164\"},\"toolbar\":{\"id\":\"2186\"},\"x_range\":{\"id\":\"2160\"},\"x_scale\":{\"id\":\"2168\"},\"y_range\":{\"id\":\"2161\"},\"y_scale\":{\"id\":\"2170\"}},\"id\":\"2163\",\"subtype\":\"Figure\",\"type\":\"Plot\"},{\"attributes\":{},\"id\":\"2180\",\"type\":\"SaveTool\"},{\"attributes\":{\"line_color\":\"#1f77b3\",\"line_width\":2,\"x\":{\"field\":\"Date\"},\"y\":{\"field\":\"Search Trends\"}},\"id\":\"2196\",\"type\":\"Line\"},{\"attributes\":{\"line_alpha\":0.1,\"line_color\":\"#1f77b3\",\"line_width\":2,\"x\":{\"field\":\"Date\"},\"y\":{\"field\":\"Search Trends\"}},\"id\":\"2197\",\"type\":\"Line\"},{\"attributes\":{},\"id\":\"2181\",\"type\":\"PanTool\"},{\"attributes\":{},\"id\":\"2173\",\"type\":\"BasicTicker\"},{\"attributes\":{},\"id\":\"2182\",\"type\":\"WheelZoomTool\"},{\"attributes\":{\"bottom_units\":\"screen\",\"fill_alpha\":0.5,\"fill_color\":\"lightgrey\",\"left_units\":\"screen\",\"level\":\"overlay\",\"line_alpha\":1.0,\"line_color\":\"black\",\"line_dash\":[4,4],\"line_width\":2,\"right_units\":\"screen\",\"top_units\":\"screen\"},\"id\":\"2185\",\"type\":\"BoxAnnotation\"},{\"attributes\":{\"overlay\":{\"id\":\"2185\"}},\"id\":\"2183\",\"type\":\"BoxZoomTool\"},{\"attributes\":{\"axis\":{\"id\":\"2176\"},\"dimension\":1,\"grid_line_color\":null,\"ticker\":null},\"id\":\"2179\",\"type\":\"Grid\"},{\"attributes\":{},\"id\":\"2201\",\"type\":\"BasicTickFormatter\"},{\"attributes\":{\"margin\":[5,5,5,5],\"name\":\"HSpacer03255\",\"sizing_mode\":\"stretch_width\"},\"id\":\"2159\",\"type\":\"Spacer\"},{\"attributes\":{\"end\":52.0,\"reset_end\":52.0,\"reset_start\":1.0,\"start\":1.0,\"tags\":[[[\"Date\",\"Date\",null]]]},\"id\":\"2160\",\"type\":\"Range1d\"},{\"attributes\":{},\"id\":\"2203\",\"type\":\"BasicTickFormatter\"},{\"attributes\":{},\"id\":\"2184\",\"type\":\"ResetTool\"},{\"attributes\":{\"source\":{\"id\":\"2193\"}},\"id\":\"2200\",\"type\":\"CDSView\"},{\"attributes\":{},\"id\":\"2170\",\"type\":\"LinearScale\"},{\"attributes\":{\"data\":{\"Date\":[1,2,3,4,5,6,7,8,9,10,11,12,13,14,15,16,17,18,19,20,21,22,23,24,25,26,27,28,29,30,31,32,33,34,35,36,37,38,39,40,41,42,43,44,45,46,47,48,49,50,51,52],\"Search Trends\":{\"__ndarray__\":\"JUmSJEl2RkBiGIZhGApJQAzDMAzDPElAbtu2bdtqSUBu27Zt2wpJQBiGYRiGDUlASZIkSZIUSUDbtm3btmFJQGtxE+Z3tUhAchzHcRxnSEBw+ZZv+e5IQJ7neZ7naUhAkiRJkiSNR0B6nud5nm9IQLdt27Zt20dA27Zt27bhR0AMwzAMw3BIQPQ8z/M8z0dAep7neZ6vRkAlSZIkSeJHQFVVVVVV5UdAwgcffPCRSEBYfMVXfDVIQHqe53meJ0hAOIETOIETSEBiGIZhGMZHQGQ/9mM/xkdAFDiBEzjxR0A9z/M8z+NHQIQ6qIM6uEdAvuIrvuILSEAg+7Ef+0FIQKM1WqM1mkhAERERERGRSECe53me5zlGQD/2Yz/2o0dAhOFqRdsDSED0PM/zPNtGQM/zPM/zHEhASZIkSZKYR0C3bdu2bedGQJIkSZIkqUZAep7neZ4/R0AAAAAAABhIQM/zPM/zwEdAJUmSJEn+R0AYhmEYhr1IQG7btm3bokhAnud5nud5SED0PM/zPKtIQHqe53me30hADMMwDMNURkA=\",\"dtype\":\"float64\",\"order\":\"little\",\"shape\":[52]},\"Search_Trends\":{\"__ndarray__\":\"JUmSJEl2RkBiGIZhGApJQAzDMAzDPElAbtu2bdtqSUBu27Zt2wpJQBiGYRiGDUlASZIkSZIUSUDbtm3btmFJQGtxE+Z3tUhAchzHcRxnSEBw+ZZv+e5IQJ7neZ7naUhAkiRJkiSNR0B6nud5nm9IQLdt27Zt20dA27Zt27bhR0AMwzAMw3BIQPQ8z/M8z0dAep7neZ6vRkAlSZIkSeJHQFVVVVVV5UdAwgcffPCRSEBYfMVXfDVIQHqe53meJ0hAOIETOIETSEBiGIZhGMZHQGQ/9mM/xkdAFDiBEzjxR0A9z/M8z+NHQIQ6qIM6uEdAvuIrvuILSEAg+7Ef+0FIQKM1WqM1mkhAERERERGRSECe53me5zlGQD/2Yz/2o0dAhOFqRdsDSED0PM/zPNtGQM/zPM/zHEhASZIkSZKYR0C3bdu2bedGQJIkSZIkqUZAep7neZ4/R0AAAAAAABhIQM/zPM/zwEdAJUmSJEn+R0AYhmEYhr1IQG7btm3bokhAnud5nud5SED0PM/zPKtIQHqe53me30hADMMwDMNURkA=\",\"dtype\":\"float64\",\"order\":\"little\",\"shape\":[52]}},\"selected\":{\"id\":\"2194\"},\"selection_policy\":{\"id\":\"2210\"}},\"id\":\"2193\",\"type\":\"ColumnDataSource\"},{\"attributes\":{\"axis_label\":\"Date\",\"bounds\":\"auto\",\"formatter\":{\"id\":\"2201\"},\"major_label_orientation\":\"horizontal\",\"ticker\":{\"id\":\"2173\"}},\"id\":\"2172\",\"type\":\"LinearAxis\"},{\"attributes\":{\"text\":\"\",\"text_color\":{\"value\":\"black\"},\"text_font_size\":{\"value\":\"12pt\"}},\"id\":\"2164\",\"type\":\"Title\"},{\"attributes\":{\"children\":[{\"id\":\"2159\"},{\"id\":\"2163\"},{\"id\":\"2221\"}],\"margin\":[0,0,0,0],\"name\":\"Row03251\",\"tags\":[\"embedded\"]},\"id\":\"2158\",\"type\":\"Row\"},{\"attributes\":{\"margin\":[5,5,5,5],\"name\":\"HSpacer03256\",\"sizing_mode\":\"stretch_width\"},\"id\":\"2221\",\"type\":\"Spacer\"},{\"attributes\":{},\"id\":\"2168\",\"type\":\"LinearScale\"},{\"attributes\":{\"axis\":{\"id\":\"2172\"},\"grid_line_color\":null,\"ticker\":null},\"id\":\"2175\",\"type\":\"Grid\"},{\"attributes\":{},\"id\":\"2210\",\"type\":\"UnionRenderers\"},{\"attributes\":{},\"id\":\"2177\",\"type\":\"BasicTicker\"},{\"attributes\":{\"axis_label\":\"Search Trends\",\"bounds\":\"auto\",\"formatter\":{\"id\":\"2203\"},\"major_label_orientation\":\"horizontal\",\"ticker\":{\"id\":\"2177\"}},\"id\":\"2176\",\"type\":\"LinearAxis\"},{\"attributes\":{\"callback\":null,\"renderers\":[{\"id\":\"2199\"}],\"tags\":[\"hv_created\"],\"tooltips\":[[\"Date\",\"@{Date}\"],[\"Search Trends\",\"@{Search_Trends}\"]]},\"id\":\"2162\",\"type\":\"HoverTool\"},{\"attributes\":{\"end\":51.47306547619048,\"reset_end\":51.47306547619048,\"reset_start\":43.8141369047619,\"start\":43.8141369047619,\"tags\":[[[\"Search Trends\",\"Search Trends\",null]]]},\"id\":\"2161\",\"type\":\"Range1d\"},{\"attributes\":{\"data_source\":{\"id\":\"2193\"},\"glyph\":{\"id\":\"2196\"},\"hover_glyph\":null,\"muted_glyph\":{\"id\":\"2198\"},\"nonselection_glyph\":{\"id\":\"2197\"},\"selection_glyph\":null,\"view\":{\"id\":\"2200\"}},\"id\":\"2199\",\"type\":\"GlyphRenderer\"},{\"attributes\":{},\"id\":\"2194\",\"type\":\"Selection\"},{\"attributes\":{\"active_drag\":\"auto\",\"active_inspect\":\"auto\",\"active_multi\":null,\"active_scroll\":\"auto\",\"active_tap\":\"auto\",\"tools\":[{\"id\":\"2162\"},{\"id\":\"2180\"},{\"id\":\"2181\"},{\"id\":\"2182\"},{\"id\":\"2183\"},{\"id\":\"2184\"}]},\"id\":\"2186\",\"type\":\"Toolbar\"},{\"attributes\":{\"line_alpha\":0.2,\"line_color\":\"#1f77b3\",\"line_width\":2,\"x\":{\"field\":\"Date\"},\"y\":{\"field\":\"Search Trends\"}},\"id\":\"2198\",\"type\":\"Line\"}],\"root_ids\":[\"2158\"]},\"title\":\"Bokeh Application\",\"version\":\"2.2.3\"}};\n",
       "    var render_items = [{\"docid\":\"bc22f644-38d5-425d-92a1-c1a3197e6292\",\"root_ids\":[\"2158\"],\"roots\":{\"2158\":\"ee4c67cc-4e2c-4633-9949-25f6a5b3fffb\"}}];\n",
       "    root.Bokeh.embed.embed_items_notebook(docs_json, render_items);\n",
       "  }\n",
       "  if (root.Bokeh !== undefined && root.Bokeh.Panel !== undefined) {\n",
       "    embed_document(root);\n",
       "  } else {\n",
       "    var attempts = 0;\n",
       "    var timer = setInterval(function(root) {\n",
       "      if (root.Bokeh !== undefined && root.Bokeh.Panel !== undefined) {\n",
       "        clearInterval(timer);\n",
       "        embed_document(root);\n",
       "      } else if (document.readyState == \"complete\") {\n",
       "        attempts++;\n",
       "        if (attempts > 100) {\n",
       "          clearInterval(timer);\n",
       "          console.log(\"Bokeh: ERROR: Unable to run BokehJS code because BokehJS library is missing\");\n",
       "        }\n",
       "      }\n",
       "    }, 10, root)\n",
       "  }\n",
       "})(window);</script>"
      ],
      "text/plain": [
       ":Curve   [Date]   (Search Trends)"
      ]
     },
     "execution_count": 111,
     "metadata": {
      "application/vnd.holoviews_exec.v0+json": {
       "id": "2158"
      }
     },
     "output_type": "execute_result"
    }
   ],
   "source": [
    "# Group the hourly search data to plot (use hvPlot) the average traffic by the week of the year\n",
    "group_level = df_mercado_trends.index.weekofyear\n",
    "df_mercado_trends.groupby(group_level).mean().hvplot()"
   ]
  },
  {
   "cell_type": "markdown",
   "metadata": {},
   "source": [
    "##### Answer the following question:"
   ]
  },
  {
   "cell_type": "markdown",
   "metadata": {},
   "source": [
    "**Question:** Does the search traffic tend to increase during the winter holiday period (weeks 40 through 52)?\n",
    "\n",
    "**Answer:** # YOUR ANSWER HERE"
   ]
  },
  {
   "cell_type": "markdown",
   "metadata": {},
   "source": [
    "## Step 3: Relate the Search Traffic to Stock Price Patterns\n",
    "\n",
    "You mention your work on the search traffic data during a meeting with people in the finance group at the company. They want to know if any relationship between the search data and the company stock price exists, and they ask if you can investigate.\n",
    "\n",
    "To do so, complete the following steps:\n",
    "\n",
    "1. Read in and plot the stock price data. Concatenate the stock price data to the search data in a single DataFrame.\n",
    "\n",
    "2. Market events emerged during the year of 2020 that many companies found difficult. But, after the initial shock to global financial markets, new customers and revenue increased for e-commerce platforms. Slice the data to just the first half of 2020 (`2020-01` to `2020-06` in the DataFrame), and then use hvPlot to plot the data. Do both time series indicate a common trend that’s consistent with this narrative?\n",
    "\n",
    "3. Create a new column in the DataFrame named “Lagged Search Trends” that offsets, or shifts, the search traffic by one hour. Create two additional columns:\n",
    "\n",
    "    * “Stock Volatility”, which holds an exponentially weighted four-hour rolling average of the company’s stock volatility\n",
    "\n",
    "    * “Hourly Stock Return”, which holds the percent change of the company's stock price on an hourly basis\n",
    "\n",
    "4. Review the time series correlation, and then answer the following question: Does a predictable relationship exist between the lagged search traffic and the stock volatility or between the lagged search traffic and the stock price returns?\n"
   ]
  },
  {
   "cell_type": "markdown",
   "metadata": {},
   "source": [
    "#### Step 1: Read in and plot the stock price data. Concatenate the stock price data to the search data in a single DataFrame."
   ]
  },
  {
   "cell_type": "code",
   "execution_count": null,
   "metadata": {},
   "outputs": [],
   "source": [
    "# Upload the \"mercado_stock_price.csv\" file into Colab, then store in a Pandas DataFrame\n",
    "# Set the \"date\" column as the Datetime Index.\n",
    "from google.colab import files\n",
    "uploaded = files.upload()\n",
    "\n",
    "df_mercado_stock = # YOUR CODE HERE\n",
    "\n",
    "# View the first and last five rows of the DataFrame\n",
    "# YOUR CODE HERE\n"
   ]
  },
  {
   "cell_type": "code",
   "execution_count": null,
   "metadata": {},
   "outputs": [],
   "source": [
    "# Holoviews extension to render hvPlots in Colab\n",
    "hv.extension('bokeh')\n",
    "\n",
    "# Use hvPlot to visualize the closing price of the df_mercado_stock DataFrame\n",
    "# YOUR CODE HERE\n"
   ]
  },
  {
   "cell_type": "code",
   "execution_count": null,
   "metadata": {},
   "outputs": [],
   "source": [
    "# Concatenate the df_mercado_stock DataFrame with the df_mercado_trends DataFrame\n",
    "# Concatenate the DataFrame by columns (axis=1), and drop and rows with only one column of data\n",
    "mercado_stock_trends_df = # YOUR CODE HERE\n",
    "\n",
    "# View the first and last five rows of the DataFrame\n",
    "# YOUR CODE HERE\n"
   ]
  },
  {
   "cell_type": "markdown",
   "metadata": {},
   "source": [
    "#### Step 2: Market events emerged during the year of 2020 that many companies found difficult. But, after the initial shock to global financial markets, new customers and revenue increased for e-commerce platforms. Slice the data to just the first half of 2020 (`2020-01` to `2020-06` in the DataFrame), and then use hvPlot to plot the data. Do both time series indicate a common trend that’s consistent with this narrative?"
   ]
  },
  {
   "cell_type": "code",
   "execution_count": null,
   "metadata": {},
   "outputs": [],
   "source": [
    "# For the combined dataframe, slice to just the first half of 2020 (2020-01 through 2020-06) \n",
    "first_half_2020 = # YOUR CODE HERE\n",
    "\n",
    "# View the first and last five rows of first_half_2020 DataFrame\n",
    "# YOUR CODE HERE\n"
   ]
  },
  {
   "cell_type": "code",
   "execution_count": null,
   "metadata": {},
   "outputs": [],
   "source": [
    "# Holoviews extension to render hvPlots in Colab\n",
    "hv.extension('bokeh')\n",
    "\n",
    "# Use hvPlot to visualize the close and Search Trends data\n",
    "# Plot each column on a separate axes using the following syntax\n",
    "# `hvplot(shared_axes=False, subplots=True).cols(1)`\n",
    "# YOUR CODE HERE\n"
   ]
  },
  {
   "cell_type": "markdown",
   "metadata": {},
   "source": [
    "##### Answer the following question:"
   ]
  },
  {
   "cell_type": "markdown",
   "metadata": {},
   "source": [
    "**Question:** Do both time series indicate a common trend that’s consistent with this narrative?\n",
    "\n",
    "**Answer:** # YOUR ANSWER HERE"
   ]
  },
  {
   "cell_type": "markdown",
   "metadata": {},
   "source": [
    "#### Step 3: Create a new column in the DataFrame named “Lagged Search Trends” that offsets, or shifts, the search traffic by one hour. Create two additional columns:\n",
    "\n",
    "* “Stock Volatility”, which holds an exponentially weighted four-hour rolling average of the company’s stock volatility\n",
    "\n",
    "* “Hourly Stock Return”, which holds the percent change of the company's stock price on an hourly basis\n"
   ]
  },
  {
   "cell_type": "code",
   "execution_count": null,
   "metadata": {},
   "outputs": [],
   "source": [
    "# Create a new column in the mercado_stock_trends_df DataFrame called Lagged Search Trends\n",
    "# This column should shift the Search Trends information by one hour\n",
    "mercado_stock_trends_df['Lagged Search Trends'] = # YOUR CODE HERE\n"
   ]
  },
  {
   "cell_type": "code",
   "execution_count": null,
   "metadata": {},
   "outputs": [],
   "source": [
    "# Create a new column in the mercado_stock_trends_df DataFrame called Stock Volatility\n",
    "# This column should calculate the standard deviation of the closing stock price return data over a 4 period rolling window\n",
    "mercado_stock_trends_df['Stock Volatility'] = # YOUR CODE HERE\n"
   ]
  },
  {
   "cell_type": "code",
   "execution_count": null,
   "metadata": {},
   "outputs": [],
   "source": [
    "# Holoviews extension to render hvPlots in Colab\n",
    "hv.extension('bokeh')\n",
    "\n",
    "# Use hvPlot to visualize the stock volatility\n",
    "# YOUR CODE HERE\n"
   ]
  },
  {
   "cell_type": "markdown",
   "metadata": {},
   "source": [
    "**Solution Note:** Note how volatility spiked, and tended to stay high, during the first half of 2020. This is a common characteristic of volatility in stock returns worldwide: high volatility days tend to be followed by yet more high volatility days. When it rains, it pours."
   ]
  },
  {
   "cell_type": "code",
   "execution_count": null,
   "metadata": {},
   "outputs": [],
   "source": [
    "# Create a new column in the mercado_stock_trends_df DataFrame called Hourly Stock Return\n",
    "# This column should calculate hourly return percentage of the closing price\n",
    "mercado_stock_trends_df['Hourly Stock Return'] = # YOUR CODE HERE\n"
   ]
  },
  {
   "cell_type": "code",
   "execution_count": null,
   "metadata": {},
   "outputs": [],
   "source": [
    "# View the first and last five rows of the mercado_stock_trends_df DataFrame\n",
    "# YOUR CODE HERE\n"
   ]
  },
  {
   "cell_type": "markdown",
   "metadata": {},
   "source": [
    "#### Step 4: Review the time series correlation, and then answer the following question: Does a predictable relationship exist between the lagged search traffic and the stock volatility or between the lagged search traffic and the stock price returns?"
   ]
  },
  {
   "cell_type": "code",
   "execution_count": null,
   "metadata": {},
   "outputs": [],
   "source": [
    "# Construct correlation table of Stock Volatility, Lagged Search Trends, and Hourly Stock Return\n",
    "# YOUR CODE HERE\n"
   ]
  },
  {
   "cell_type": "markdown",
   "metadata": {},
   "source": [
    "##### Answer the following question:\n"
   ]
  },
  {
   "cell_type": "markdown",
   "metadata": {},
   "source": [
    "**Question:** Does a predictable relationship exist between the lagged search traffic and the stock volatility or between the lagged search traffic and the stock price returns?\n",
    "\n",
    "**Answer:** # YOUR ANSWER HERE"
   ]
  },
  {
   "cell_type": "markdown",
   "metadata": {},
   "source": [
    "## Step 4: Create a Time Series Model with Prophet\n",
    "\n",
    "Now, you need to produce a time series model that analyzes and forecasts patterns in the hourly search data. To do so, complete the following steps:\n",
    "\n",
    "1. Set up the Google search data for a Prophet forecasting model.\n",
    "\n",
    "2. After estimating the model, plot the forecast. How's the near-term forecast for the popularity of MercadoLibre?\n",
    "\n",
    "3. Plot the individual time series components of the model to answer the following questions:\n",
    "\n",
    "    * What time of day exhibits the greatest popularity?\n",
    "\n",
    "    * Which day of the week gets the most search traffic?\n",
    "\n",
    "    * What's the lowest point for search traffic in the calendar year?\n"
   ]
  },
  {
   "cell_type": "markdown",
   "metadata": {},
   "source": [
    "#### Step 1: Set up the Google search data for a Prophet forecasting model."
   ]
  },
  {
   "cell_type": "code",
   "execution_count": null,
   "metadata": {},
   "outputs": [],
   "source": [
    "# Using the df_mercado_trends DataFrame, reset the index so the date information is no longer the index\n",
    "mercado_prophet_df = # YOUR CODE HERE\n",
    "\n",
    "# Label the columns ds and y so that the syntax is recognized by Prophet\n",
    "# YOUR CODE HERE\n",
    "\n",
    "# Drop an NaN values from the prophet_df DataFrame\n",
    "mercado_prophet_df = # YOUR CODE HERE\n",
    "\n",
    "# View the first and last five rows of the mercado_prophet_df DataFrame\n",
    "# YOUR CODE HERE\n"
   ]
  },
  {
   "cell_type": "code",
   "execution_count": null,
   "metadata": {},
   "outputs": [],
   "source": [
    "# Call the Prophet function, store as an object\n",
    "model_mercado_trends = # YOUR CODE HERE\n"
   ]
  },
  {
   "cell_type": "code",
   "execution_count": null,
   "metadata": {},
   "outputs": [],
   "source": [
    "# Fit the time-series model.\n",
    "# YOUR CODE HERE\n"
   ]
  },
  {
   "cell_type": "code",
   "execution_count": null,
   "metadata": {},
   "outputs": [],
   "source": [
    "# Create a future dataframe to hold predictions\n",
    "# Make the prediction go out as far as 2000 hours (approx 80 days)\n",
    "future_mercado_trends = # YOUR CODE HERE\n",
    "\n",
    "# View the last five rows of the future_mercado_trends DataFrame\n",
    "# YOUR CODE HERE\n"
   ]
  },
  {
   "cell_type": "code",
   "execution_count": null,
   "metadata": {},
   "outputs": [],
   "source": [
    "# Make the predictions for the trend data using the future_mercado_trends DataFrame\n",
    "forecast_mercado_trends = # YOUR CODE HERE\n",
    "\n",
    "# Display the first five rows of the forecast_mercado_trends DataFrame\n",
    "# YOUR CODE HERE\n"
   ]
  },
  {
   "cell_type": "markdown",
   "metadata": {},
   "source": [
    "#### Step 2: After estimating the model, plot the forecast. How's the near-term forecast for the popularity of MercadoLibre?"
   ]
  },
  {
   "cell_type": "code",
   "execution_count": null,
   "metadata": {},
   "outputs": [],
   "source": [
    "# Plot the Prophet predictions for the Mercado trends data\n",
    "# YOUR CODE HERE"
   ]
  },
  {
   "cell_type": "markdown",
   "metadata": {},
   "source": [
    "##### Answer the following question:"
   ]
  },
  {
   "cell_type": "markdown",
   "metadata": {},
   "source": [
    "**Question:**  How's the near-term forecast for the popularity of MercadoLibre?\n",
    "\n",
    "**Answer:** # YOUR ANSWER HERE\n"
   ]
  },
  {
   "cell_type": "markdown",
   "metadata": {},
   "source": [
    "#### Step 3: Plot the individual time series components of the model to answer the following questions:\n",
    "\n",
    "* What time of day exhibits the greatest popularity?\n",
    "\n",
    "* Which day of the week gets the most search traffic?\n",
    "\n",
    "* What's the lowest point for search traffic in the calendar year?\n"
   ]
  },
  {
   "cell_type": "code",
   "execution_count": null,
   "metadata": {},
   "outputs": [],
   "source": [
    "# Set the index in the forecast_mercado_trends DataFrame to the ds datetime column\n",
    "forecast_mercado_trends = # YOUR CODE HERE\n",
    "\n",
    "# View the only the yhat,yhat_lower and yhat_upper columns from the DataFrame\n",
    "# YOUR CODE HERE\n"
   ]
  },
  {
   "cell_type": "markdown",
   "metadata": {},
   "source": [
    "Solutions Note: `yhat` represents the most likely (average) forecast, whereas `yhat_lower` and `yhat_upper` represents the worst and best case prediction (based on what are known as 95% confidence intervals)."
   ]
  },
  {
   "cell_type": "code",
   "execution_count": null,
   "metadata": {},
   "outputs": [],
   "source": [
    "# Holoviews extension to render hvPlots in Colab\n",
    "hv.extension('bokeh')\n",
    "\n",
    "# From the forecast_mercado_trends DataFrame, use hvPlot to visualize\n",
    "#  the yhat, yhat_lower, and yhat_upper columns over the last 2000 hours \n",
    "# YOUR CODE HERE\n"
   ]
  },
  {
   "cell_type": "code",
   "execution_count": null,
   "metadata": {},
   "outputs": [],
   "source": [
    "# Reset the index in the forecast_mercado_trends DataFrame\n",
    "forecast_mercado_trends = # YOUR CODE HERE\n",
    "\n",
    "# Use the plot_components function to visualize the forecast results \n",
    "# for the forecast_canada DataFrame \n",
    "figures_mercado_trends = # YOUR CODE HERE\n"
   ]
  },
  {
   "cell_type": "markdown",
   "metadata": {},
   "source": [
    "##### Answer the following questions:"
   ]
  },
  {
   "cell_type": "markdown",
   "metadata": {},
   "source": [
    "**Question:** What time of day exhibits the greatest popularity?\n",
    "\n",
    "**Answer:** # YOUR ANSWER HERE"
   ]
  },
  {
   "cell_type": "markdown",
   "metadata": {},
   "source": [
    "**Question:** Which day of week gets the most search traffic? \n",
    "   \n",
    "**Answer:** # YOUR ANSWER HERE"
   ]
  },
  {
   "cell_type": "markdown",
   "metadata": {},
   "source": [
    "**Question:** What's the lowest point for search traffic in the calendar year?\n",
    "\n",
    "**Answer:** # YOUR ANSWER HERE\n"
   ]
  },
  {
   "cell_type": "markdown",
   "metadata": {},
   "source": [
    "## Step 5 (Optional): Forecast Revenue by Using Time Series Models\n",
    "\n",
    "A few weeks after your initial analysis, the finance group follows up to find out if you can help them solve a different problem. Your fame as a growth analyst in the company continues to grow!\n",
    "\n",
    "Specifically, the finance group wants a forecast of the total sales for the next quarter. This will dramatically increase their ability to plan budgets and to help guide expectations for the company investors.\n",
    "\n",
    "To do so, complete the following steps:\n",
    "\n",
    "1. Read in the daily historical sales (that is, revenue) figures, and then apply a Prophet model to the data. The daily sales figures are quoted in millions of USD dollars.\n",
    "\n",
    "2. Interpret the model output to identify any seasonal patterns in the company's revenue. For example, what are the peak revenue days? (Mondays? Fridays? Something else?)\n",
    "\n",
    "3. Produce a sales forecast for the finance group. Give them a number for the expected total sales in the next quarter. Include the best- and worst-case scenarios to help them make better plans.\n",
    "\n",
    "\n"
   ]
  },
  {
   "cell_type": "markdown",
   "metadata": {},
   "source": [
    "#### Step 1: Read in the daily historical sales (that is, revenue) figures, and then apply a Prophet model to the data."
   ]
  },
  {
   "cell_type": "code",
   "execution_count": null,
   "metadata": {},
   "outputs": [],
   "source": [
    "# Upload the \"mercado_daily_revenue.csv\" file into Colab, then store in a Pandas DataFrame\n",
    "# Set the \"date\" column as the DatetimeIndex\n",
    "# Sales are quoted in millions of US dollars\n",
    "from google.colab import files\n",
    "uploaded = files.upload()\n",
    "\n",
    "df_mercado_sales = # YOUR CODE HERE\n",
    "\n",
    "# Review the DataFrame\n",
    "# YOUR CODE HERE\n"
   ]
  },
  {
   "cell_type": "code",
   "execution_count": null,
   "metadata": {},
   "outputs": [],
   "source": [
    "# Holoviews extension to render hvPlots in Colab\n",
    "hv.extension('bokeh')\n",
    "\n",
    "# Use hvPlot to visualize the daily sales figures \n",
    "# YOUR CODE HERE\n"
   ]
  },
  {
   "cell_type": "code",
   "execution_count": null,
   "metadata": {},
   "outputs": [],
   "source": [
    "# Apply a Facebook Prophet model to the data.\n",
    "\n",
    "# Set up the dataframe in the neccessary format:\n",
    "# Reset the index so that date becomes a column in the DataFrame\n",
    "mercado_sales_prophet_df = # YOUR CODE HERE\n",
    "\n",
    "# Adjust the columns names to the Prophet syntax\n",
    "mercado_sales_prophet_df.columns = # YOUR CODE HERE\n",
    "\n",
    "# Visualize the DataFrame\n",
    "# YOUR CODE HERE\n"
   ]
  },
  {
   "cell_type": "code",
   "execution_count": null,
   "metadata": {},
   "outputs": [],
   "source": [
    "# Create the model\n",
    "mercado_sales_prophet_model = # YOUR CODE HERE\n",
    "\n",
    "# Fit the model\n",
    "# YOUR CODE HERE\n"
   ]
  },
  {
   "cell_type": "code",
   "execution_count": null,
   "metadata": {},
   "outputs": [],
   "source": [
    "# Predict sales for 90 days (1 quarter) out into the future.\n",
    "\n",
    "# Start by making a future dataframe\n",
    "mercado_sales_prophet_future = # YOUR CODE HERE\n",
    "\n",
    "# Display the last five rows of the future DataFrame\n",
    "# YOUR CODE HERE\n"
   ]
  },
  {
   "cell_type": "code",
   "execution_count": null,
   "metadata": {},
   "outputs": [],
   "source": [
    "# Make predictions for the sales each day over the next quarter\n",
    "mercado_sales_prophet_forecast = # YOUR CODE HERE\n",
    "\n",
    "# Display the first 5 rows of the resulting DataFrame\n",
    "# YOUR CODE HERE\n"
   ]
  },
  {
   "cell_type": "markdown",
   "metadata": {},
   "source": [
    "#### Step 2: Interpret the model output to identify any seasonal patterns in the company's revenue. For example, what are the peak revenue days? (Mondays? Fridays? Something else?)"
   ]
  },
  {
   "cell_type": "code",
   "execution_count": null,
   "metadata": {},
   "outputs": [],
   "source": [
    "# Use the plot_components function to analyze seasonal patterns in the company's revenue\n",
    "# YOUR CODE HERE\n"
   ]
  },
  {
   "cell_type": "markdown",
   "metadata": {},
   "source": [
    "##### Answer the following question:"
   ]
  },
  {
   "cell_type": "markdown",
   "metadata": {},
   "source": [
    "**Question:** For example, what are the peak revenue days? (Mondays? Fridays? Something else?)\n",
    "\n",
    "**Answer:** # YOUR ANSWER HERE"
   ]
  },
  {
   "cell_type": "markdown",
   "metadata": {},
   "source": [
    "#### Step 3: Produce a sales forecast for the finance group. Give them a number for the expected total sales in the next quarter. Include the best- and worst-case scenarios to help them make better plans."
   ]
  },
  {
   "cell_type": "code",
   "execution_count": null,
   "metadata": {},
   "outputs": [],
   "source": [
    "# Plot the predictions for the Mercado sales\n",
    "# YOUR CODE HERE\n"
   ]
  },
  {
   "cell_type": "code",
   "execution_count": null,
   "metadata": {},
   "outputs": [],
   "source": [
    "# For the mercado_sales_prophet_forecast DataFrame, set the ds column as the DataFrame Index\n",
    "mercado_sales_prophet_forecast = # YOUR CODE HERE\n",
    "\n",
    "# Display the first and last five rows of the DataFrame\n",
    "# YOUR CODE HERE\n"
   ]
  },
  {
   "cell_type": "code",
   "execution_count": null,
   "metadata": {},
   "outputs": [],
   "source": [
    "# Produce a sales forecast for the finance division\n",
    "# giving them a number for expected total sales next quarter.\n",
    "# Provide best case (yhat_upper), worst case (yhat_lower), and most likely (yhat) scenarios.\n",
    "\n",
    "# Create a forecast_quarter Dataframe for the period 2020-07-01 to 2020-09-30\n",
    "# The DataFrame should include the columns yhat_upper, yhat_lower, and yhat\n",
    "mercado_sales_forecast_quarter = # YOUR CODE HERE\n",
    "\n",
    "# Update the column names for the forecast_quarter DataFrame\n",
    "# to match what the finance division is looking for \n",
    "mercado_sales_forecast_quarter = # YOUR CODE HERE\n",
    "\n",
    "# Review the last five rows of the DataFrame\n",
    "# YOUR CODE HERE\n"
   ]
  },
  {
   "cell_type": "code",
   "execution_count": null,
   "metadata": {},
   "outputs": [],
   "source": [
    "# Displayed the summed values for all the rows in the forecast_quarter DataFrame\n",
    "# YOUR CODE HERE\n"
   ]
  },
  {
   "cell_type": "markdown",
   "metadata": {},
   "source": [
    "### Based on the forecast information generated above, produce a sales forecast for the finance division, giving them a number for expected total sales next quarter. Include best and worst case scenarios, to better help the finance team plan.\n",
    "\n",
    "**Answer:** # YOUR ANSWER HERE"
   ]
  },
  {
   "cell_type": "code",
   "execution_count": null,
   "metadata": {},
   "outputs": [],
   "source": []
  }
 ],
 "metadata": {
  "kernelspec": {
   "display_name": "Python (dev)",
   "language": "python",
   "name": "dev"
  },
  "language_info": {
   "codemirror_mode": {
    "name": "ipython",
    "version": 3
   },
   "file_extension": ".py",
   "mimetype": "text/x-python",
   "name": "python",
   "nbconvert_exporter": "python",
   "pygments_lexer": "ipython3",
   "version": "3.7.9"
  }
 },
 "nbformat": 4,
 "nbformat_minor": 4
}
